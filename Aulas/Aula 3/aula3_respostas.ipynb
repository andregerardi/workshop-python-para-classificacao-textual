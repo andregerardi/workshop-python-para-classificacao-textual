{
 "cells": [
  {
   "cell_type": "markdown",
   "metadata": {},
   "source": [
    "# **Aula 3** \n",
    "# Regular Expressions - Regex"
   ]
  },
  {
   "cell_type": "markdown",
   "metadata": {},
   "source": [
    "_Conteúdo da Aula:_\n",
    "\n",
    "2. Regex do zero:\n",
    "    - O que é?\n",
    "    \n",
    "    - Operações: \n",
    "        - a) [find, findall, match, search, finditer]\n",
    "    - Aplicações para análise \n",
    "        - b) [caracteres, checagem, estruturas, grupos e textos]"
   ]
  },
  {
   "cell_type": "markdown",
   "metadata": {},
   "source": [
    "## O que é Regex?"
   ]
  },
  {
   "cell_type": "markdown",
   "metadata": {},
   "source": [
    "Expressões Regulares são sequências de símbolos e caracteres que representam um padrão de string. \n",
    "\n",
    "Esses padrões podem ser utilizados para extrair ou buscar por informações de interesse em um texto no Python e até mesmo produzir classificações deste material.\n",
    "\n",
    "Imagine que sua pesquisa investiga o debate públicos sobre os direitos humanos na Câmara dos Deputados, que o material da pesquisa são projetos de lei elaborados por deputados religiosos, e que tratem dos temas de gênero, diversidade de gênero. \n",
    "\n",
    "Que material devo ler, quais termos buscar? [ideologia de gênero, gayzismo, ditadura das minorias, doutrinação sexual]\n",
    "\n",
    "Portanto, o Regex é uma ferramenta fundamental para pesquisadores que trabalham como etnografias, entrevistas, material jurídico, redes sociais, ou seja, qualquer conteúdo textual.\n",
    "\n",
    "Com Regex, você pode buscas de termos(s) em strings ou conjuntos de strings (palavras, frases, parágrafos, textos, livros)."
   ]
  },
  {
   "cell_type": "markdown",
   "metadata": {},
   "source": [
    "1) Precisamos importar a biblioteca"
   ]
  },
  {
   "cell_type": "code",
   "execution_count": 3,
   "metadata": {},
   "outputs": [],
   "source": [
    "import re\n",
    "import pandas as pd"
   ]
  },
  {
   "cell_type": "markdown",
   "metadata": {},
   "source": [
    "### Trabalhando com caracteres"
   ]
  },
  {
   "cell_type": "code",
   "execution_count": 224,
   "metadata": {},
   "outputs": [
    {
     "name": "stdout",
     "output_type": "stream",
     "text": [
      "['amo']\n",
      "['e', ' ', 't', 'u', 'o', ' ', 'o', ' ', 'm', 'e', 'u', ' ', 'm', 'o', 'r', ' ', 's', 'e', 'r', 'e', 'i', ' ', 't', 'e', 'n', 't', 'o', ' ', 'n', 't', 'e', 's', ' ', 's', 'o', 'm', 'e', 'n', 't', 'e', ' ', 'e', 'm', ' ', '2', '0', '4', '0']\n"
     ]
    }
   ],
   "source": [
    "# [^] -> usado para indicar o conjunto de caracteres que NÃO podem conter na pesquisa.\n",
    "#  ^  -> verifica strings iniciadas por caracteres indicados\n",
    "\n",
    "texto = 'de tudo ao meu amor serei atento antes'\n",
    "\n",
    "exemplo1 = re.compile(r'amo') \n",
    "exemplo2 = re.compile(r'[^abcd]') \n",
    "\n",
    "output1 = exemplo1.findall(texto)\n",
    "output2 = exemplo2.findall(texto)\n",
    "\n",
    "\n",
    "print(output1)\n",
    "print(output2)"
   ]
  },
  {
   "cell_type": "code",
   "execution_count": 246,
   "metadata": {},
   "outputs": [
    {
     "name": "stdout",
     "output_type": "stream",
     "text": [
      "['2', '0', '4', '0', '2', '1', '0', '0'] \n",
      " ['d', 'e', ' ', 't', 'u', 'd', 'o', ' ', 'a', 'o', ' ', 'm', 'e', 'u', ' ', 'a', 'm', 'o', 'r', ' ', 's', 'e', 'r', 'e', 'i', ' ', 'a', 't', 'e', 'n', 't', 'o', ' ', 'a', 'n', 't', 'e', 's', ' ', 'm', 'a', 's', ' ', 's', 'o', 'm', 'e', 'n', 't', 'e', ' ', 'e', 'm', ' ', ' ', 'o', 'u', ' ']\n"
     ]
    },
    {
     "data": {
      "text/plain": [
       "'de tudo ao meu amor serei atento antes mas somente em  ou '"
      ]
     },
     "execution_count": 246,
     "metadata": {},
     "output_type": "execute_result"
    }
   ],
   "source": [
    "# \\d - Qualquer caracter que SEJA um algarismo  de 0 a 9\n",
    "# \\D - Qualquer caracter que NÃO SEJA um algarismo de 0 a 9\n",
    "\n",
    "texto = 'de tudo ao meu amor serei atento antes mas somente em 2040 ou 2100'\n",
    "\n",
    "exemplo1 = re.compile(r'\\d') \n",
    "exemplo2 = re.compile(r'\\D') \n",
    "\n",
    "output1 = exemplo1.findall(texto)\n",
    "output2 = exemplo2.findall(texto)\n",
    "\n",
    "print(output1,'\\n', output2)\n",
    "\n",
    "\"\".join(output2)"
   ]
  },
  {
   "cell_type": "markdown",
   "metadata": {},
   "source": [
    "### Métodos de Checagem"
   ]
  },
  {
   "cell_type": "code",
   "execution_count": 266,
   "metadata": {},
   "outputs": [
    {
     "name": "stdout",
     "output_type": "stream",
     "text": [
      "Resultado de findall: ['a', 'a', 'a', 'a', 'a', 'a', 'a', 'a', 'a', 'a', 'a']'\n",
      "'Resultado de match: None'\n",
      "'Resultado de search: <re.Match object; span=(8, 9), match='a'>'\n",
      "'Resultado de finditer: <callable_iterator object at 0x0000022C07752920>\n"
     ]
    }
   ],
   "source": [
    "texto = 'De tudo ao meu amor serei atento Antes, e com tal zelo, e sempre, e tanto Que mesmo em face do maior encanto Dele se encante mais meu pensamento.'\n",
    "\n",
    "check_findall = re.findall(r'a', texto) ## retorna uma lista com todas as vezes que o termo aparece no texto\n",
    "check_match = re.match(r'a', texto) ## busca a partir do início da string\n",
    "check_search = re.search(r'a', texto) ## busca em qualquer parte da string\n",
    "check_finditer = re.finditer(r'a', texto)\n",
    "\n",
    "print(f\"Resultado de findall: {check_findall}'\\n'\\\n",
    "Resultado de match: {check_match}'\\n'\\\n",
    "Resultado de search: {check_search}'\\n'\\\n",
    "Resultado de finditer: {check_finditer}\")\n"
   ]
  },
  {
   "cell_type": "markdown",
   "metadata": {},
   "source": [
    "> A função finditer permite a realização de iterações, o que é útil para encontrar informações em textos."
   ]
  },
  {
   "cell_type": "code",
   "execution_count": 311,
   "metadata": {},
   "outputs": [
    {
     "name": "stdout",
     "output_type": "stream",
     "text": [
      "11\n",
      "Fachin\n",
      "Moraes\n",
      "Barroso\n",
      "Zanin\n",
      "Carmen Lúcia\n",
      "Fux\n",
      "Mendonça\n",
      "Marques\n",
      "Toffolli\n",
      "Mendes\n",
      "Weber\n"
     ]
    }
   ],
   "source": [
    "# lista de ministros\n",
    "ministros = [\n",
    "    'Fachin','Moraes', 'Barroso', 'Zanin', 'Carmen Lúcia', 'Fux', 'Mendonça', 'Marques', 'Toffolli', 'Mendes', 'Weber'\n",
    "    ]\n",
    "# conta os itens da lista\n",
    "print(len(ministros))\n",
    "\n",
    "# imprimir os nomes na tela\n",
    "for ministro in ministros:\n",
    "    print(ministro)\n",
    "\n"
   ]
  },
  {
   "cell_type": "code",
   "execution_count": 328,
   "metadata": {},
   "outputs": [
    {
     "name": "stdout",
     "output_type": "stream",
     "text": [
      "Fachin - > <re.Match object; span=(1, 2), match='a'>\n",
      "Moraes - > <re.Match object; span=(3, 4), match='a'>\n",
      "Barroso - > <re.Match object; span=(1, 2), match='a'>\n",
      "Zanin - > <re.Match object; span=(1, 2), match='a'>\n",
      "Carmen Lúcia - > <re.Match object; span=(1, 2), match='a'>\n",
      "Carmen Lúcia - > <re.Match object; span=(11, 12), match='a'>\n",
      "Mendonça - > <re.Match object; span=(7, 8), match='a'>\n",
      "Marques - > <re.Match object; span=(1, 2), match='a'>\n"
     ]
    }
   ],
   "source": [
    "ministros = [\n",
    "    'Fachin','Moraes', 'Barroso', 'Zanin', 'Carmen Lúcia', 'Fux', 'Mendonça', 'Marques', 'Toffolli', 'Mendes', 'Weber'\n",
    "    ]\n",
    "\n",
    "check = []\n",
    "\n",
    "for ministro in ministros:\n",
    "    \n",
    "    check_finditer = re.finditer(r'a', ministro)\n",
    "    \n",
    "    for item in check_finditer:\n",
    "        print(ministro, '- >', item)"
   ]
  },
  {
   "cell_type": "markdown",
   "metadata": {},
   "source": [
    "documento | texto\n",
    "----------| -----------------------------------------\n",
    "doc1      | texto1 qualquer que você quer analisar\n",
    "doc2      | texto2 qualquer que você quer analisar\n",
    "doc3      | texto2 qualquer que você quer analisar"
   ]
  },
  {
   "cell_type": "markdown",
   "metadata": {},
   "source": [
    "### Estruturas"
   ]
  },
  {
   "cell_type": "code",
   "execution_count": 436,
   "metadata": {},
   "outputs": [
    {
     "data": {
      "text/plain": [
       "[<re.Match object; span=(3, 7), match='tudo'>,\n",
       " <re.Match object; span=(8, 10), match='ao'>,\n",
       " <re.Match object; span=(11, 14), match='meu'>,\n",
       " <re.Match object; span=(15, 19), match='amor'>,\n",
       " <re.Match object; span=(20, 25), match='serei'>,\n",
       " <re.Match object; span=(26, 32), match='atento'>,\n",
       " <re.Match object; span=(34, 38), match='ntes'>,\n",
       " <re.Match object; span=(42, 45), match='com'>,\n",
       " <re.Match object; span=(46, 49), match='tal'>,\n",
       " <re.Match object; span=(50, 54), match='zelo'>,\n",
       " <re.Match object; span=(58, 64), match='sempre'>,\n",
       " <re.Match object; span=(68, 73), match='tanto'>,\n",
       " <re.Match object; span=(75, 77), match='ue'>,\n",
       " <re.Match object; span=(78, 83), match='mesmo'>,\n",
       " <re.Match object; span=(84, 86), match='em'>,\n",
       " <re.Match object; span=(87, 91), match='face'>,\n",
       " <re.Match object; span=(92, 94), match='do'>,\n",
       " <re.Match object; span=(95, 100), match='maior'>,\n",
       " <re.Match object; span=(101, 108), match='encanto'>,\n",
       " <re.Match object; span=(110, 113), match='ele'>,\n",
       " <re.Match object; span=(114, 116), match='se'>,\n",
       " <re.Match object; span=(117, 124), match='encante'>,\n",
       " <re.Match object; span=(125, 129), match='mais'>,\n",
       " <re.Match object; span=(130, 133), match='meu'>,\n",
       " <re.Match object; span=(134, 144), match='pensamento'>,\n",
       " <re.Match object; span=(147, 151), match='este'>]"
      ]
     },
     "execution_count": 436,
     "metadata": {},
     "output_type": "execute_result"
    }
   ],
   "source": [
    "texto = 'De tudo ao meu amor serei atento Antes, e com tal zelo, e sempre, e tanto Que mesmo em face do maior encanto Dele se encante mais meu pensamento. Teste 2022'\n",
    "\n",
    "# [a-z]\n",
    "# [A-Z]\n",
    "# [a-zA-Z]\n",
    "# [0-9]\n",
    "# [a-zA-Z]+ [0-9]\\w+\n",
    "\n",
    "correspondencias = re.finditer(r'[a-z]\\w+', texto)\n",
    "\n",
    "l = []\n",
    "\n",
    "for correspondencia in correspondencias:\n",
    "    #print(correspondencia[0])\n",
    "    lista = correspondencia\n",
    "    l.append(lista) ### inserir a posição para extrair uma lista [0]\n",
    "\n",
    "l"
   ]
  },
  {
   "cell_type": "markdown",
   "metadata": {},
   "source": [
    "### Grupos e Textos"
   ]
  },
  {
   "cell_type": "code",
   "execution_count": 60,
   "metadata": {},
   "outputs": [],
   "source": [
    "textoPlEsp = '''\n",
    "Esta proposição se espelha em anteprojeto de lei elaborado pelo movimento Escola sem Partido (www.escolasempartido.org) – “uma iniciativa conjunta de estudantes e pais preocupados com o grau de contaminação político-ideológica das escolas brasileiras, em todos os níveis: do ensino básico ao superior” –, cuja robusta justificativa subscrevemos: \n",
    "“É fato notório que professores e autores de livros didáticos vêm-se utilizando de suas aulas e de suas obras para tentar obter a adesão dos estudantes a determinadas correntes políticas e ideológicas; e para fazer com que eles adotem padrões de julgamento e de conduta moral – especialmente moral sexual – incompatíveis com os que lhes são ensinados por seus pais ou responsáveis.\n",
    "Diante dessa realidade – conhecida por experiência direta de todos os que passaram pelo sistema de ensino nos últimos 20 ou 30 anos –, entendemos que é necessário e urgente adotar medidas eficazes para prevenir a prática da doutrinação política e ideológica nas escolas, e a usurpação do direito dos pais a que seus filhos recebam a educação moral que esteja de acordo com suas próprias convicções.\n",
    "Trata-se, afinal, de práticas ilícitas, violadoras de direitos e liberdades fundamentais dos estudantes e de seus pais ou responsáveis, como se passa a demonstrar:\n",
    "1 - A liberdade de aprender – assegurada pelo art. 206 da Constituição Federal – compreende o direito do estudante a que o seu conhecimento da realidade não seja manipulado, para fins políticos e ideológicos, pela ação dos seus professores;\n",
    "2 - Da mesma forma, a liberdade de consciência, garantida pelo art. 5º, VI, da Constituição Federal, confere ao estudante o direito de não ser doutrinado por seus professores;\n",
    "3 - O caráter obrigatório do ensino não anula e não restringe a liberdade de consciência do indivíduo. Por isso, o fato de o estudante ser obrigado a assistir às aulas de um professor implica para esse professor o dever de não utilizar sua disciplina como instrumento de cooptação político-partidária ou ideológica;\n",
    "4 - Ora, é evidente que a liberdade de aprender e a liberdade de consciência dos estudantes restarão violadas se o professor puder se aproveitar de sua audiência cativa para promover em sala de aula suas próprias concepções políticas, ideológicas e morais;\n",
    "5 - Liberdade de ensinar – assegurada pelo art. 206, II, da Constituição Federal – não se confunde com liberdade de expressão; não existe liberdade de expressão no exercício estrito da atividade docente, sob pena de ser anulada a liberdade de consciência e de crença dos estudantes, que formam, em sala de aula, uma audiência cativa; \n",
    "6 - De forma análoga, não desfrutam os estudantes de liberdade de escolha em relação às obras didáticas e paradidáticas cuja leitura lhes é imposta por seus professores, o que justifica o disposto no art. 8º, I, do projeto de lei; \n",
    "7 - Além disso, a doutrinação política e ideológica em sala de aula compromete gravemente a liberdade política do estudante, na medida em que visa a induzi-lo a fazer determinadas escolhas políticas e ideológicas, que beneficiam, direta ou indiretamente as políticas, os movimentos, as organizações, os governos, os partidos e os candidatos que desfrutam da simpatia do professor;\n",
    "8 - Sendo assim, não há dúvida de que os estudantes que se encontram em tal situação estão sendo manipulados e explorados politicamente, o que ofende o art. 5º do Estatuto da Criança e do Adolescente (ECA), segundo o qual “nenhuma criança ou adolescente será objeto de qualquer forma de exploração”;\n",
    "9 - Ao estigmatizar determinadas perspectivas políticas e ideológicas, a doutrinação cria as condições para o bullying político e ideológico que é praticado pelos próprios estudantes contra seus colegas. Em certos ambientes, um aluno que assuma publicamente uma militância ou postura que não seja a da corrente dominante corre sério risco de ser isolado, hostilizado e até agredido fisicamente pelos colegas. E isso se deve, principalmente, ao ambiente de sectarismo criado pela doutrinação;\n",
    "10 - A doutrinação infringe, também, o disposto no art. 53 do Estatuto da Criança e do Adolescente, que garante aos estudantes “o direito de ser respeitado por seus educadores”. Com efeito, um professor que deseja transformar seus alunos em réplicas ideológicas de si mesmo evidentemente não os está respeitando;\n",
    "11 - A prática da doutrinação política e ideológica nas escolas configura, ademais, uma clara violação ao próprio regime democrático, na medida em que ela instrumentaliza o sistema público de ensino com o objetivo de desequilibrar o jogo político em favor de determinados competidores;\n",
    "12 - Por outro lado, é inegável que, como entidades pertencentes à Administração Pública, as escolas públicas estão sujeitas ao princípio constitucional da impessoalidade, e isto significa, nas palavras de Celso Antonio Bandeira de Mello (Curso de Direito Administrativo, Malheiros, 15ª ed., p. 104), que “nem favoritismo nem perseguições são toleráveis. Simpatias ou animosidades pessoais, políticas ou ideológicas não podem interferir na atuação administrativa e muito menos interesses sectários, de facções ou grupos de qualquer espécie.”;\n",
    "13 - E não é só. O uso da máquina do Estado – que compreende o sistema de ensino – para a difusão das concepções políticas ou ideológicas de seus agentes é incompatível com o princípio da neutralidade política e ideológica do Estado,  com o princípio republicano, com o princípio da isonomia (igualdade de todos perante a lei) e com o princípio do pluralismo político e de ideias, todos previstos, explícita ou implicitamente, na Constituição Federal;\n",
    "14 - No que tange à educação moral, referida no art. 2º, VII, do projeto de lei, a Convenção Americana sobre Direitos Humanos, vigente no Brasil, estabelece em seu art. 12 que “os pais têm direito a que seus filhos recebam a educação religiosa e moral que esteja de acordo com suas próprias convicções”;\n",
    "15 - Ora, se cabe aos pais decidir o que seus filhos devem aprender em matéria de moral, nem o governo, nem a escola, nem os professores têm o direito de usar a sala de aula para tratar de conteúdos morais que não tenham sido previamente aprovados pelos pais dos alunos;\n",
    "16 - Finalmente, um Estado que se define como laico – e que, portanto deve ser neutro em relação a todas as religiões – não pode usar o sistema de ensino para promover uma determinada moralidade, já que a moral é em regra inseparável da religião; \n",
    "17. Permitir que o governo de turno ou seus agentes utilizem o sistema de ensino para promover uma determinada moralidade é dar-lhes o direito de vilipendiar e destruir, indiretamente, a crença religiosa dos estudantes, o que ofende os artigos 5º, VI, e 19, I, da Constituição Federal.\n",
    "Ante o exposto, entendemos que a melhor forma de combater o abuso da liberdade de ensinar é informar os estudantes sobre o direito que eles têm de não ser doutrinados por seus professores.\n",
    "Nesse sentido, o projeto que ora se apresenta está em perfeita sintonia com o art. 2º da Lei de Diretrizes e Bases da Educação Nacional, que prescreve, entre as finalidades da educação, o preparo do educando para o exercício da cidadania. Afinal, o direito de ser informado sobre os próprios direitos é uma questão de estrita cidadania. \n",
    "Urge, portanto, informar os estudantes sobre o direito que eles têm de não ser doutrinados por seus professores, a fim de que eles mesmos possam exercer a defesa desse direito, já que, dentro das salas de aula, ninguém mais poderá fazer isso por eles.\n",
    "Note-se por fim, que o projeto não deixa de atender à especificidade das instituições confessionais e particulares cujas práticas educativas sejam orientadas por concepções, princípios e valores morais, às quais reconhece expressamente o direito de veicular e promover os princípios, valores e concepções que as definem, exigindo-se, apenas, a ciência e o consentimento expressos por parte dos pais ou responsáveis pelos estudantes.”\n",
    "Frisamos mais uma vez que projetos de lei semelhantes ao presente – inspirados em anteprojeto de lei elaborado pelo Movimento Escola sem Partido (www.escolasempartido.org) – já tramitam nas Assembleias Legislativas dos Estados do Rio de Janeiro, São Paulo, Goiás e Espírito Santo, e na Câmara Legislativa do Distrito Federal; e em dezenas de Câmaras de Vereadores (v.g., São Paulo-SP, Rio de Janeiro-RJ, Curitiba-PR, Vitória da Conquista-BA, Toledo-PR, Chapecó-SC, Joinville-SC, Mogi Guaçu-SP, Foz do Iguaçu-PR, etc.), tendo sido já aprovado nos Municípios de Santa Cruz do Monte Carmelo-PR e Picuí-PB.\n",
    " '''"
   ]
  },
  {
   "cell_type": "markdown",
   "metadata": {},
   "source": [
    "#### Alguns simbolos e caracteres importantes em expressões regulares:\n",
    "\n",
    "* \\w : representa qualquer caractere alfanumérico.\n",
    "* \\+ : busca uma ou mais repetições da expressão anterior.\n",
    "* \\| : separador de opções de uma expressão.\n",
    "* () : usado para definir as fronteiras exatas em uma expressão.\n",
    "* {} : indica a posição"
   ]
  },
  {
   "cell_type": "markdown",
   "metadata": {},
   "source": [
    "#### Verificar se um endereço de internet está no texto"
   ]
  },
  {
   "cell_type": "code",
   "execution_count": 7,
   "metadata": {},
   "outputs": [
    {
     "name": "stdout",
     "output_type": "stream",
     "text": [
      "<re.Match object; span=(95, 115), match='www.escolasempartido'>\n",
      "www.escolasempartido\n",
      "<re.Match object; span=(8085, 8105), match='www.escolasempartido'>\n",
      "www.escolasempartido\n"
     ]
    }
   ],
   "source": [
    "sites = re.finditer(r'www\\S\\w+',textoPlEsp)\n",
    "\n",
    "for site in sites:\n",
    "    print(site)\n",
    "    print(site[0]) ## opção para exibir apenas o conteúdo localizado"
   ]
  },
  {
   "cell_type": "markdown",
   "metadata": {},
   "source": [
    "#### Verificar se um termo está no texto"
   ]
  },
  {
   "cell_type": "code",
   "execution_count": 47,
   "metadata": {},
   "outputs": [
    {
     "name": "stdout",
     "output_type": "stream",
     "text": [
      "['ideológica', 'ideológicas', 'ideológica', 'ideológicos', 'ideológica', 'ideológicas', 'ideológica', 'ideológicas', 'ideológicas', 'ideológico', 'ideológicas', 'ideológica', 'ideológicas', 'ideológicas', 'ideológica']\n",
      "['liberdades', 'liberdade', 'liberdade', 'liberdade', 'liberdade', 'liberdade', 'liberdade', 'liberdade', 'liberdade', 'liberdade', 'liberdade', 'liberdade']\n"
     ]
    }
   ],
   "source": [
    "# S+ ->\n",
    "# b -> fronteira do caracter\n",
    "\n",
    "## busca palavras que contenham o radical \"ideo\" e \"liber\"\n",
    "output1 = re.findall(r\"ideo\\w+\", textoPlEsp)\n",
    "output2 = re.findall(r\"liber\\w+\", textoPlEsp)\n",
    "\n",
    "## imprime o resultado das variáveis salvas\n",
    "print(output1)\n",
    "print(output2)\n",
    "\n",
    "## importa a biblioteca pandas\n",
    "import pandas as pd\n",
    "\n",
    "## transforma a lista num dataframe - função T altera a disposição dos dados (de horizontal, para vertical)\n",
    "dados = pd.DataFrame([output1,output2]).T\n",
    "## cria o nome das colunas do dataframe\n",
    "dados.columns = ['ideo', 'liber']\n",
    "\n",
    "## plota um gráfico de barras a partir das informações de ideologia\n",
    "dados.ideo.value_counts().plot(kind='barh',title='Variações do termo no texto do PL 867/2015 \\n')"
   ]
  },
  {
   "cell_type": "code",
   "execution_count": 57,
   "metadata": {},
   "outputs": [
    {
     "data": {
      "text/plain": [
       "<Axes: title={'center': 'Variações do termo no texto do PL 867/2015 \\n'}>"
      ]
     },
     "execution_count": 57,
     "metadata": {},
     "output_type": "execute_result"
    },
    {
     "data": {
      "image/png": "[encoded data removed]",
      "text/plain": [
       "<Figure size 640x480 with 1 Axes>"
      ]
     },
     "metadata": {},
     "output_type": "display_data"
    }
   ],
   "source": [
    "## plota um gráfico de barras a partir das informações de ideologia\n",
    "dados['ideo'].value_counts().plot(kind='barh',title='Variações do termo no texto do PL 867/2015 \\n',color='y')"
   ]
  },
  {
   "cell_type": "code",
   "execution_count": 58,
   "metadata": {},
   "outputs": [
    {
     "data": {
      "text/plain": [
       "<Axes: title={'center': 'Variações do termo no texto do PL 867/2015 \\n'}>"
      ]
     },
     "execution_count": 58,
     "metadata": {},
     "output_type": "execute_result"
    },
    {
     "data": {
      "image/png": "[encoded data removed]",
      "text/plain": [
       "<Figure size 640x480 with 1 Axes>"
      ]
     },
     "metadata": {},
     "output_type": "display_data"
    }
   ],
   "source": [
    "## plota um gráfico de barras a partir das informações de liberdade\n",
    "dados['liber'].value_counts().plot(kind='barh',title='Variações do termo no texto do PL 867/2015 \\n')"
   ]
  },
  {
   "cell_type": "markdown",
   "metadata": {},
   "source": [
    "#### Alguns simbolos e caracteres importantes em expressões regulares:\n",
    "\n",
    "* \\w : representa qualquer caractere alfanumérico.\n",
    "* \\+ : busca uma ou mais repetições da expressão anterior.\n",
    "* \\| : separador de opções de uma expressão.\n",
    "* () : usado para definir as fronteiras exatas em uma expressão.\n",
    "* {} : indica a posição"
   ]
  },
  {
   "cell_type": "markdown",
   "metadata": {},
   "source": [
    "#### Grupos de Termos"
   ]
  },
  {
   "cell_type": "code",
   "execution_count": 62,
   "metadata": {},
   "outputs": [
    {
     "name": "stdout",
     "output_type": "stream",
     "text": [
      "['escola', 'escola', 'escola', 'morais', 'escola', 'escola', 'escola', 'morais', 'morais', 'escola']\n"
     ]
    }
   ],
   "source": [
    "out_findall = re.findall('(morais|escola|doutrinar)', textoPlEsp) ## vários\n",
    "print(out_findall)"
   ]
  },
  {
   "cell_type": "markdown",
   "metadata": {},
   "source": [
    "#### Termos Compostos"
   ]
  },
  {
   "cell_type": "code",
   "execution_count": 73,
   "metadata": {},
   "outputs": [
    {
     "data": {
      "text/plain": [
       "['da doutrinação política e ideológica nas escolas',\n",
       " 'a doutrinação política e ideológica em sala',\n",
       " 'a doutrinação cria as condições para o',\n",
       " 'da doutrinação política e ideológica nas escolas']"
      ]
     },
     "execution_count": 73,
     "metadata": {},
     "output_type": "execute_result"
    }
   ],
   "source": [
    "expressao = re.findall('\\w+ doutrinação \\w+ \\w+ \\w+ \\w+ \\w+', textoPlEsp)\n",
    "list(expressao)"
   ]
  },
  {
   "cell_type": "markdown",
   "metadata": {},
   "source": [
    "#### Sulfixos das palavras"
   ]
  },
  {
   "cell_type": "code",
   "execution_count": 78,
   "metadata": {},
   "outputs": [
    {
     "data": {
      "text/plain": [
       "['proposição',\n",
       " 'contaminação',\n",
       " 'doutrinação',\n",
       " 'usurpação',\n",
       " 'educação',\n",
       " 'Constituição',\n",
       " 'ação',\n",
       " 'Constituição',\n",
       " 'cooptação',\n",
       " 'Constituição',\n",
       " 'relação',\n",
       " 'doutrinação',\n",
       " 'situação',\n",
       " 'exploração',\n",
       " 'doutrinação',\n",
       " 'doutrinação',\n",
       " 'doutrinação',\n",
       " 'doutrinação',\n",
       " 'violação',\n",
       " 'Administração',\n",
       " 'atuação',\n",
       " 'Constituição',\n",
       " 'educação',\n",
       " 'Convenção',\n",
       " 'educação',\n",
       " 'relação',\n",
       " 'Constituição',\n",
       " 'Educação',\n",
       " 'educação']"
      ]
     },
     "execution_count": 78,
     "metadata": {},
     "output_type": "execute_result"
    }
   ],
   "source": [
    "expressao = re.findall('\\w+ção', textoPlEsp)\n",
    "list(expressao)"
   ]
  },
  {
   "cell_type": "code",
   "execution_count": null,
   "metadata": {},
   "outputs": [],
   "source": []
  }
 ],
 "metadata": {
  "kernelspec": {
   "display_name": "Python 3",
   "language": "python",
   "name": "python3"
  },
  "language_info": {
   "codemirror_mode": {
    "name": "ipython",
    "version": 3
   },
   "file_extension": ".py",
   "mimetype": "text/x-python",
   "name": "python",
   "nbconvert_exporter": "python",
   "pygments_lexer": "ipython3",
   "version": "3.10.11"
  },
  "orig_nbformat": 4
 },
 "nbformat": 4,
 "nbformat_minor": 2
}
