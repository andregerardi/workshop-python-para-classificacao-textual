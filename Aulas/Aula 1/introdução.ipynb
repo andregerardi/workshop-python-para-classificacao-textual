{
 "cells": [
  {
   "cell_type": "markdown",
   "metadata": {},
   "source": [
    "# [**Python do zero à classificação de textos 🚀**](https://github.com/andregerardi/workshop-python-para-classificacao-textual)\n"
   ]
  },
  {
   "cell_type": "markdown",
   "metadata": {},
   "source": [
    "## **Visão Geral do Curso**"
   ]
  },
  {
   "cell_type": "markdown",
   "metadata": {},
   "source": [
    "### **Aula 1**"
   ]
  },
  {
   "cell_type": "markdown",
   "metadata": {},
   "source": [
    "> 2) O que é ciência de dados, para que serve e por que a aplicar na pesquisa acadêmica?\n",
    "\n",
    "> 3) Apresentação dos interpretadores Jupyter Notebook (Anaconda) e Visual Studio Code (Microssoft);\n",
    "\n",
    "> 4) Explorando o Google Colab;\n",
    "\n",
    "> 5) Baixar o conteúdo do curso no Google Drive.\n"
   ]
  },
  {
   "cell_type": "markdown",
   "metadata": {},
   "source": [
    "### **Aula 2** - **Python básico mão na massa:** explorando funções para classificação\n"
   ]
  },
  {
   "cell_type": "markdown",
   "metadata": {},
   "source": [
    "> 1) O que é a linguagem de programação Python; Alto Nível, Identada.\n",
    "\n",
    "> 2) Comados básicos: \n",
    ">> * função print()\n",
    ">> * função type() - [str, int, float]\n",
    ">> * funções de conversão\n",
    ">> * Funções de arredondamento\n",
    "\n",
    "> 3) Trabalhando com variáveis\n",
    "\n",
    "> 4) Trabalhando com listas\n",
    "\n",
    "> 5) Restrições para a criação de variáveis\n",
    "\n",
    "> 6) Operações matemáticas\n",
    "\n",
    ">> **Intervalo**\n",
    "\n",
    "> 7) Trabalhando com strings\n",
    ">> * Operações com strings\n",
    "\n",
    "> **Guia para Markdown** [aqui]('https://colab.research.google.com/notebooks/markdown_guide.ipynb#scrollTo=Lhfnlq1Surtk )"
   ]
  },
  {
   "cell_type": "markdown",
   "metadata": {},
   "source": [
    "### **Aula 3** - **Regex**"
   ]
  },
  {
   "cell_type": "markdown",
   "metadata": {},
   "source": [
    "1. Continuação: operações com strings\n",
    "2. Regex do zero\n",
    "    - O que é?\n",
    "    - Aplicações para análise textual"
   ]
  },
  {
   "cell_type": "markdown",
   "metadata": {},
   "source": [
    "### **Aula 4 - Análise de dados**"
   ]
  },
  {
   "cell_type": "markdown",
   "metadata": {},
   "source": [
    "> 1) Biblioteca Pandas;\n",
    "\n",
    "> 2) DataFrames\n",
    ">> - Estruturação;\n",
    ">> - Manipulação;\n",
    ">> - Importação (csv, xls, xlsx, txt, internet);\n",
    "\n",
    "> - Mesclando dados de diferentes DataFrames:\n",
    ">>> * Merge;\n",
    ">>> * Concat;"
   ]
  },
  {
   "cell_type": "markdown",
   "metadata": {},
   "source": [
    "### **Aula 5**"
   ]
  },
  {
   "cell_type": "markdown",
   "metadata": {},
   "source": [
    "1. Criando um algorítimo para classificação de textos;\n",
    "2. Juntado seus conhecimento:\n",
    "    a. Desafio de classificação;\n",
    "    - Bases: \n",
    "            STF, Facebook, Jornais, pesquisa pessoal;\n",
    "3. Validação do algorítimo"
   ]
  },
  {
   "cell_type": "markdown",
   "metadata": {},
   "source": []
  }
 ],
 "metadata": {
  "kernelspec": {
   "display_name": "Python 3",
   "language": "python",
   "name": "python3"
  },
  "language_info": {
   "codemirror_mode": {
    "name": "ipython",
    "version": 3
   },
   "file_extension": ".py",
   "mimetype": "text/x-python",
   "name": "python",
   "nbconvert_exporter": "python",
   "pygments_lexer": "ipython3",
   "version": "3.10.11"
  },
  "orig_nbformat": 4
 },
 "nbformat": 4,
 "nbformat_minor": 2
}
