{
 "cells": [
  {
   "cell_type": "markdown",
   "metadata": {},
   "source": [
    "# **Aula 4** \n",
    "\n",
    "# **Pandas para análise de dados**"
   ]
  },
  {
   "cell_type": "markdown",
   "metadata": {},
   "source": [
    "Nessa aula nós vamos trabalhar com a biblioteca Pandas.\n",
    "\n",
    "Essa bilbioteca facilita o trabalho com dados não estruturados.\n",
    "\n",
    "Além disso, permite a manipulação de dados de texto, com formato númerico, planilhas e arquivos de diversos formatos.\n",
    "\n",
    "Pandas é a principal biblioteca para análise de dados do Python.\n",
    "\n",
    "> Nesta aula nós vamos trabalhar com dados estruturados.\n",
    "\n",
    "> Aprenderemos a criar, manipular, importar e salvar dados nos formatos (csv, xlsx, txt e de internet);"
   ]
  },
  {
   "cell_type": "markdown",
   "metadata": {},
   "source": [
    "<img src='https://miro.medium.com/v2/resize:fit:720/0*kVETqwtYsQ8BFJDc.gif' alt='how to  a gif to your page' height='350px'>"
   ]
  },
  {
   "cell_type": "markdown",
   "metadata": {},
   "source": [
    "## **Importando a biblioteca Pandas**"
   ]
  },
  {
   "cell_type": "code",
   "execution_count": null,
   "metadata": {},
   "outputs": [],
   "source": [
    "import pandas as pd\n",
    "import matplotlib.pyplot as plt"
   ]
  },
  {
   "cell_type": "markdown",
   "metadata": {},
   "source": [
    "### Como transformar objetos de uma lista num DataFrame Pandas?\n",
    "\n",
    "##### _Exemplo para a transformação de dados num **dataframe**:_\n",
    "\n",
    "```\n",
    "dados = {\n",
    "  \"coluna_um\" :   [\"dado_1\", \"dado_2\", \"dado_n\"],\n",
    "  \"coluna_dois\" : [\"valor_1\", \"valor_2\", \"valor_n\"]\n",
    "  }\n",
    "\n",
    "df = pd.DataFrame(dados)\n",
    "\n",
    "df\n",
    "```"
   ]
  },
  {
   "cell_type": "markdown",
   "metadata": {},
   "source": [
    "## **Parte 1)**\n",
    "## **Criar e Salvar um DataFrame**"
   ]
  },
  {
   "cell_type": "markdown",
   "metadata": {},
   "source": [
    "##### **Hands on!**"
   ]
  },
  {
   "cell_type": "code",
   "execution_count": null,
   "metadata": {},
   "outputs": [],
   "source": [
    "dados = {\n",
    "  \"coluna_um\" : [\"dado_1\", \"dado_2\", \"dado_n\"],\n",
    "  \"coluna_dois\" : [\"valor_1\", \"valor_2\", \"valor_n\"]\n",
    "  }"
   ]
  },
  {
   "cell_type": "markdown",
   "metadata": {},
   "source": [
    "#### **Os Dados**"
   ]
  },
  {
   "cell_type": "markdown",
   "metadata": {},
   "source": [
    ">No exemplo, os nossos dados serão os votos dos ministros do STF proferidos no julgamento da ADI-4439, de 2010, que analisou a constitucionalidade do ensino religioso confessional em escolas públicas brasileiras.\n",
    "\n",
    ">A controvérsia, iniciada nos anos 1930, foi reativada em 2010 pela PGR, estimulando o debate jurídico, assim como o público, sobre a laicidade das escolas mantidas pelo Estado. O estopim foi a assinatura de um Acordo entre Brasil e Santa Sé em 2008.\n",
    "\n",
    "> Na Audiência Pública realizada em 2015, o Tribunal, por meio do ministro Roberto Barroso, ouviu a posição de trinta e dois representantes religiosos e seculares. A maioria dos oradores posiciou-se contra a confessionalidade do ensino religioso.\n",
    "\n",
    "> A decisão dos ministros do STF, no entanto, legitimou o ensino religioso confessional nas escolas. Detalhes podem ser vistos neste [artigo](https://www.researchgate.net/publication/338844101_Religiao_e_laicidade_no_STF_as_figuracoes_do_secular_no_debate_brasileiro_sobre_o_ensino_religioso_publico)."
   ]
  },
  {
   "cell_type": "markdown",
   "metadata": {},
   "source": [
    "##### _Importando o Pandas_"
   ]
  },
  {
   "cell_type": "code",
   "execution_count": null,
   "metadata": {},
   "outputs": [],
   "source": [
    "import pandas as pd"
   ]
  },
  {
   "cell_type": "markdown",
   "metadata": {},
   "source": [
    "##### _Criando uma lista_"
   ]
  },
  {
   "cell_type": "code",
   "execution_count": null,
   "metadata": {},
   "outputs": [],
   "source": [
    "dados2 = {\n",
    "\n",
    "    'ministros' : ['Moraes','Tofoli','Mendes','Carmen','Barroso','Levandowsky','Fux','Fachin','Marco Aurélio','Celso de Melo','Weber'],\n",
    "    'votos_dummie' : [1,1,1,1,0,1,0,1,0,0,0],\n",
    "    'votos_categorias' : ['sim','sim','sim','sim','não','sim','não','sim','não','não','não'],\n",
    "    'genero_ministros' : ['M','M','M','F','M','M','M','M','M','M','F']\n",
    "    \n",
    "    }"
   ]
  },
  {
   "cell_type": "markdown",
   "metadata": {},
   "source": [
    "##### _Tipo da base de dados_"
   ]
  },
  {
   "cell_type": "code",
   "execution_count": null,
   "metadata": {},
   "outputs": [],
   "source": [
    "print(f\"Os dados estão no formato: {type(dados2)}\")"
   ]
  },
  {
   "cell_type": "markdown",
   "metadata": {},
   "source": [
    "##### _Visualização dos dados_"
   ]
  },
  {
   "cell_type": "code",
   "execution_count": null,
   "metadata": {},
   "outputs": [],
   "source": [
    "dados2"
   ]
  },
  {
   "cell_type": "markdown",
   "metadata": {},
   "source": [
    "##### _Transformando o dicionário num DataFrame_"
   ]
  },
  {
   "cell_type": "code",
   "execution_count": null,
   "metadata": {},
   "outputs": [],
   "source": [
    "df2 = pd.DataFrame()"
   ]
  },
  {
   "cell_type": "markdown",
   "metadata": {},
   "source": [
    "##### _Tipo da estrutura de dados_"
   ]
  },
  {
   "cell_type": "code",
   "execution_count": null,
   "metadata": {},
   "outputs": [],
   "source": [
    "print(f\"Os DataFrame está no formato: {type()}\")"
   ]
  },
  {
   "cell_type": "markdown",
   "metadata": {},
   "source": [
    "##### _Informações sobre a estrutura de dados_"
   ]
  },
  {
   "cell_type": "code",
   "execution_count": null,
   "metadata": {},
   "outputs": [],
   "source": [
    "df2.info()"
   ]
  },
  {
   "cell_type": "markdown",
   "metadata": {},
   "source": [
    "##### _O que é um DataFrame Pandas?_\n",
    "\n"
   ]
  },
  {
   "cell_type": "code",
   "execution_count": null,
   "metadata": {},
   "outputs": [],
   "source": [
    "df2"
   ]
  },
  {
   "cell_type": "markdown",
   "metadata": {},
   "source": [
    "#### **Agora, vamos salvar o DataFrame no Colab?**"
   ]
  },
  {
   "cell_type": "code",
   "execution_count": null,
   "metadata": {},
   "outputs": [],
   "source": [
    "## Montar o Google Drive\n",
    "from google.colab import drive\n",
    "drive.mount('/content/gdrive')"
   ]
  },
  {
   "cell_type": "code",
   "execution_count": null,
   "metadata": {},
   "outputs": [],
   "source": [
    "## importação do Pandas\n",
    "import pandas as pd\n",
    "\n",
    "## criação de uma estrutura de dados com formato de dicionário\n",
    "dados = {\n",
    "    'ministros' : ['Moraes','Tofoli','Mendes','Carmen','Barroso','Levandowsky','Fux','Fachin','Marco Aurélio','Celso de Melo','Weber'],\n",
    "    'votos_num' : [1,1,1,1,0,1,0,1,0,0,0],\n",
    "    'votos_cat' : ['sim','sim','sim','sim','não','sim','não','sim','não','não','não'],\n",
    "    'gênero' : ['M','M','M','F','M','M','M','M','M','M','F']\n",
    "    }\n",
    "\n",
    "## transformação do dicionário num dataframe pandas\n",
    "df2 = pd.DataFrame(dados)\n",
    "\n",
    "## impreção do dataframe\n",
    "df2\n",
    "\n",
    "## Na aba esquerda do Colab, encontre a pasta onde salvou o conteúdo da oficina.\n",
    "### Abra a pasta da Aula 4\n",
    "### Clique com o botão esquerdo do mouse, e selecione a opção \"copiar caminho\"\n",
    "\n",
    "## salvando o dataframe nos formatos xlsx, csv, txt\n",
    "## xlsx\n",
    "df2.to_excel('dados_min.xlsx')\n",
    "## csv\n",
    "df2.to_csv('dados_min.csv',sep=';', encoding='utf-8-sig')\n",
    "## txt\n",
    "df2.to_csv('dados_min.txt',encoding='utf-8-sig')"
   ]
  },
  {
   "cell_type": "markdown",
   "metadata": {},
   "source": [
    "## **Parte 2**\n",
    "## **Importação de tabelas**"
   ]
  },
  {
   "cell_type": "markdown",
   "metadata": {},
   "source": [
    "##### _Importação de arquivos do Colab_"
   ]
  },
  {
   "cell_type": "code",
   "execution_count": null,
   "metadata": {},
   "outputs": [],
   "source": [
    "## CSV\n",
    "dadosMinCSV = pd.read_csv('dados_min.csv',sep=';', encoding='utf-8-sig',)"
   ]
  },
  {
   "cell_type": "code",
   "execution_count": null,
   "metadata": {},
   "outputs": [],
   "source": [
    "## XLSX\n",
    "dadosMinXLSX = pd.read_excel('dados_min.xlsx')"
   ]
  },
  {
   "cell_type": "code",
   "execution_count": null,
   "metadata": {},
   "outputs": [],
   "source": [
    "## TXT\n",
    "dadosMinTXT = pd.read_csv('dados_min.csv',sep=';', encoding='utf-8-sig')"
   ]
  },
  {
   "cell_type": "markdown",
   "metadata": {},
   "source": [
    "##### _Importação de aquivos da Internet_\n",
    "\n",
    "Usaremos os Dados Abertos do Instituto Chico Mendes [aqui]('https://www.gov.br/icmbio/pt-br/acesso-a-informacao/dados-abertos')"
   ]
  },
  {
   "cell_type": "markdown",
   "metadata": {},
   "source": []
  },
  {
   "cell_type": "code",
   "execution_count": null,
   "metadata": {},
   "outputs": [],
   "source": [
    "import pandas as pd\n",
    "desmatamento = pd.read_csv('')"
   ]
  },
  {
   "cell_type": "markdown",
   "metadata": {},
   "source": [
    "## **Parte 3** \n",
    "## **Conhecendo o DataFrame**"
   ]
  },
  {
   "cell_type": "code",
   "execution_count": null,
   "metadata": {},
   "outputs": [],
   "source": [
    "# Metodo head() imprime as 5 linhas iniciais do dataframe.\n",
    "desmatamento.head()"
   ]
  },
  {
   "cell_type": "code",
   "execution_count": null,
   "metadata": {},
   "outputs": [],
   "source": [
    "# O parâmetro index_col informa a coluna qual o dataframe será indexado\n",
    "desmatamento = pd.read_csv('https://www.gov.br/icmbio/pt-br/acesso-a-informacao/dados-abertos/arquivos/desmatamento-em-unidades-de-conservacao-federais/desmatamento_ucs_atualizado_2021.csv/@@download/file', encoding='windows-1252', sep=';', index_col='uc')"
   ]
  },
  {
   "cell_type": "code",
   "execution_count": null,
   "metadata": {},
   "outputs": [],
   "source": [
    "# Metodo head() imprime as 5 linhas iniciais do dataframe.\n",
    "# Metodo tail() imprime as 5 ultimas linhas.\n",
    "desmatamento.head()"
   ]
  },
  {
   "cell_type": "code",
   "execution_count": null,
   "metadata": {},
   "outputs": [],
   "source": [
    "# O parâmetro usecols informa a(s) coluna(s) que você irá selecionar do dataset\n",
    "desmatamento = pd.read_csv('https://www.gov.br/icmbio/pt-br/acesso-a-informacao/dados-abertos/arquivos/desmatamento-em-unidades-de-conservacao-federais/desmatamento_ucs_atualizado_2021.csv/@@download/file', usecols=['cnuc', 'biocgfun', 'prodes', '2021', '2020'], encoding='windows-1252', sep=';')"
   ]
  },
  {
   "cell_type": "code",
   "execution_count": null,
   "metadata": {},
   "outputs": [],
   "source": [
    "# Atributo columns retorna o nome das colunas do dataframe.\n",
    "desmatamento.columns"
   ]
  },
  {
   "cell_type": "code",
   "execution_count": null,
   "metadata": {},
   "outputs": [],
   "source": [
    "# Método count() retorna a quantidade de linhas de todas as colunas.\n",
    "desmatamento.count()"
   ]
  },
  {
   "cell_type": "code",
   "execution_count": null,
   "metadata": {},
   "outputs": [],
   "source": [
    "# Método describe() exibe informações estatísticas da base de dados. \n",
    "# Várias informações como desvio padrão, média, valor mínimo e valor máximo de colunas.\n",
    "desmatamento.describe()"
   ]
  },
  {
   "cell_type": "code",
   "execution_count": null,
   "metadata": {},
   "outputs": [],
   "source": [
    "# Imprime uma amostra aleatória do dataset.\n",
    "desmatamento.sample(5)"
   ]
  },
  {
   "cell_type": "code",
   "execution_count": null,
   "metadata": {},
   "outputs": [],
   "source": [
    "# Retorna em formato de tupla a quantidade de linhas e colunas do dataset.\n",
    "desmatamento.shape"
   ]
  },
  {
   "cell_type": "code",
   "execution_count": null,
   "metadata": {},
   "outputs": [],
   "source": [
    "# Imprime informações sobre colunas e uso de memória.\n",
    "desmatamento.info()"
   ]
  },
  {
   "cell_type": "code",
   "execution_count": null,
   "metadata": {},
   "outputs": [],
   "source": [
    "# Visualizando dados de uma ou mais colunas.\n",
    "desmatamento['biocgfun']"
   ]
  },
  {
   "cell_type": "code",
   "execution_count": null,
   "metadata": {},
   "outputs": [],
   "source": [
    "# Ver a distribuicao da coluna com o método value_counts().\n",
    "desmatamento['biocgfun'].value_counts()"
   ]
  },
  {
   "cell_type": "code",
   "execution_count": null,
   "metadata": {},
   "outputs": [],
   "source": [
    "# Ver a distribuicao da coluna em % com o método value_counts().\n",
    "desmatamento['biocgfun'].value_counts(normalize=True).mul(100).round(2)"
   ]
  },
  {
   "cell_type": "markdown",
   "metadata": {},
   "source": [
    "## **Parte 4**\n",
    "## **Percorrendo linhas de um dataset**"
   ]
  },
  {
   "cell_type": "code",
   "execution_count": null,
   "metadata": {},
   "outputs": [],
   "source": [
    "## Importando a base de dados do facebook, contida pasta do curso, dentro da subpasta \"Base de Dados\"\n",
    "## A função \"nrows\" pode ser usada para inspecionar bigdata. Basta indicar o número de linhas que quer importar.\n",
    "#!pip install openpyxl\n",
    "fb = pd.read_excel('X:/(fgv 2023) workshop python para classificação de textos/workshop-python-para-classificacao-textual/Bases de dados/banco_facebook_campanha_2022.xlsx',nrows=5)"
   ]
  },
  {
   "cell_type": "code",
   "execution_count": null,
   "metadata": {},
   "outputs": [],
   "source": [
    "fb.head(2)"
   ]
  },
  {
   "cell_type": "code",
   "execution_count": null,
   "metadata": {},
   "outputs": [],
   "source": [
    "## Percorrendo linha de um dataset\n",
    "for item in fb['message'][0:10]:\n",
    "    print(item)"
   ]
  },
  {
   "cell_type": "code",
   "execution_count": null,
   "metadata": {},
   "outputs": [],
   "source": [
    "fb.shape"
   ]
  },
  {
   "cell_type": "code",
   "execution_count": null,
   "metadata": {},
   "outputs": [],
   "source": [
    "# Consultando linhas com valores faltantes.\n",
    "fb.isnull().sum()/29221*100"
   ]
  },
  {
   "cell_type": "code",
   "execution_count": null,
   "metadata": {},
   "outputs": [],
   "source": [
    "#Com este comando removemos todas as linhas onde tenha pela menos um registro faltante em algum atributo.\n",
    "newfb = fb.dropna(inplace=True)"
   ]
  },
  {
   "cell_type": "code",
   "execution_count": null,
   "metadata": {},
   "outputs": [],
   "source": [
    "#preenche com 9999 os values null da coluna bedrooms\n",
    "fb['message'].fillna(9999, inplace=True)"
   ]
  },
  {
   "cell_type": "markdown",
   "metadata": {},
   "source": [
    "## **Parte 5**\n",
    "## **Visualizando os dados**"
   ]
  },
  {
   "cell_type": "code",
   "execution_count": null,
   "metadata": {},
   "outputs": [],
   "source": [
    "# Plota em um gŕafico de barras mostrando que partido mais atuou nas redes sociais\n",
    "fb['partido'].value_counts().plot(kind='barh')"
   ]
  },
  {
   "cell_type": "code",
   "execution_count": null,
   "metadata": {},
   "outputs": [],
   "source": [
    "# Plota em gráfico de dispersão com o numero de shares e o número de likes de deputados do PL\n",
    "## cria uma base de dados somente de deputados do PL\n",
    "dataPL = fb[fb['partido']==\"PL\"]\n",
    "## plota gráfico de dispersão para a base\n",
    "dataPL.plot(x='n_likes',y='shares_count',kind='scatter', title='Impacto digital de deputados do PL nas eleições 2022 \\n',color='r')"
   ]
  },
  {
   "cell_type": "code",
   "execution_count": null,
   "metadata": {},
   "outputs": [],
   "source": [
    "# Plota em gráfico de dispersão com o numero de shares e o número de likes de deputados do PL\n",
    "dataPL.plot(x='n_likes',y='shares_count',kind='scatter', title='Impacto digital de deputados do PL nas eleições 2022 \\n',color='y')"
   ]
  },
  {
   "cell_type": "code",
   "execution_count": null,
   "metadata": {},
   "outputs": [],
   "source": []
  }
 ],
 "metadata": {
  "kernelspec": {
   "display_name": "Python 3",
   "language": "python",
   "name": "python3"
  },
  "language_info": {
   "codemirror_mode": {
    "name": "ipython",
    "version": 3
   },
   "file_extension": ".py",
   "mimetype": "text/x-python",
   "name": "python",
   "nbconvert_exporter": "python",
   "pygments_lexer": "ipython3",
   "version": "3.10.11"
  },
  "orig_nbformat": 4
 },
 "nbformat": 4,
 "nbformat_minor": 2
}
