{
 "cells": [
  {
   "cell_type": "markdown",
   "metadata": {},
   "source": [
    "# **Aula 4** \n",
    "\n",
    "# **Pandas para análise de dados**"
   ]
  },
  {
   "cell_type": "markdown",
   "metadata": {},
   "source": [
    "Nessa aula nós vamos trabalhar com a biblioteca Pandas.\n",
    "\n",
    "Essa bilbioteca facilita o trabalho com dados não estruturados.\n",
    "\n",
    "Além disso, permite a manipulação de dados de texto, com formato númerico, planilhas e arquivos de diversos formatos.\n",
    "\n",
    "Pandas é a principal biblioteca para análise de dados do Python.\n",
    "\n",
    "> Nesta aula nós vamos trabalhar com dados estruturados.\n",
    "\n",
    "> Aprenderemos a criar, manipular, importar e salvar dados nos formatos (csv, xlsx, txt e de internet);"
   ]
  },
  {
   "cell_type": "markdown",
   "metadata": {},
   "source": [
    "<img src='https://miro.medium.com/v2/resize:fit:720/0*kVETqwtYsQ8BFJDc.gif' alt='how to  a gif to your page' height='350px'>"
   ]
  },
  {
   "cell_type": "markdown",
   "metadata": {},
   "source": [
    "## **Importando a biblioteca Pandas**"
   ]
  },
  {
   "cell_type": "code",
   "execution_count": 113,
   "metadata": {},
   "outputs": [],
   "source": [
    "import pandas as pd\n",
    "import matplotlib.pyplot as plt\n"
   ]
  },
  {
   "cell_type": "markdown",
   "metadata": {},
   "source": [
    "### Como transformar objetos de uma lista num DataFrame Pandas?\n",
    "\n",
    "##### _Exemplo para a transformação de dados num **dataframe**:_\n",
    "\n",
    "```\n",
    "dados = {\n",
    "  \"coluna_um\" :   [\"dado_1\", \"dado_2\", \"dado_n\"],\n",
    "  \"coluna_dois\" : [\"valor_1\", \"valor_2\", \"valor_n\"]\n",
    "  }\n",
    "\n",
    "df = pd.DataFrame(dados)\n",
    "\n",
    "df\n",
    "```"
   ]
  },
  {
   "cell_type": "markdown",
   "metadata": {},
   "source": [
    "## **Parte 1)**\n",
    "## **Criar e Salvar um DataFrame**\n",
    "<br>"
   ]
  },
  {
   "cell_type": "markdown",
   "metadata": {},
   "source": [
    "##### **Hands on!**"
   ]
  },
  {
   "cell_type": "code",
   "execution_count": 75,
   "metadata": {},
   "outputs": [
    {
     "data": {
      "text/html": [
       "<div>\n",
       "<style scoped>\n",
       "    .dataframe tbody tr th:only-of-type {\n",
       "        vertical-align: middle;\n",
       "    }\n",
       "\n",
       "    .dataframe tbody tr th {\n",
       "        vertical-align: top;\n",
       "    }\n",
       "\n",
       "    .dataframe thead th {\n",
       "        text-align: right;\n",
       "    }\n",
       "</style>\n",
       "<table border=\"1\" class=\"dataframe\">\n",
       "  <thead>\n",
       "    <tr style=\"text-align: right;\">\n",
       "      <th></th>\n",
       "      <th>coluna_um</th>\n",
       "      <th>coluna_dois</th>\n",
       "    </tr>\n",
       "  </thead>\n",
       "  <tbody>\n",
       "    <tr>\n",
       "      <th>0</th>\n",
       "      <td>dado_1</td>\n",
       "      <td>valor_1</td>\n",
       "    </tr>\n",
       "    <tr>\n",
       "      <th>1</th>\n",
       "      <td>dado_2</td>\n",
       "      <td>valor_2</td>\n",
       "    </tr>\n",
       "    <tr>\n",
       "      <th>2</th>\n",
       "      <td>dado_n</td>\n",
       "      <td>valor_n</td>\n",
       "    </tr>\n",
       "  </tbody>\n",
       "</table>\n",
       "</div>"
      ],
      "text/plain": [
       "  coluna_um coluna_dois\n",
       "0    dado_1     valor_1\n",
       "1    dado_2     valor_2\n",
       "2    dado_n     valor_n"
      ]
     },
     "execution_count": 75,
     "metadata": {},
     "output_type": "execute_result"
    }
   ],
   "source": [
    "dados = {\n",
    "  \"coluna_um\" : [\"dado_1\", \"dado_2\", \"dado_n\"],\n",
    "  \"coluna_dois\" : [\"valor_1\", \"valor_2\", \"valor_n\"]\n",
    "  }\n",
    "  \n",
    "df = pd.DataFrame(dados)\n",
    "\n",
    "df"
   ]
  },
  {
   "cell_type": "markdown",
   "metadata": {},
   "source": [
    "#### **Os Dados**"
   ]
  },
  {
   "cell_type": "markdown",
   "metadata": {},
   "source": [
    ">No exemplo, os nossos dados serão os votos dos ministros do STF proferidos no julgamento da ADI-4439, de 2010, que analisou a constitucionalidade do ensino religioso confessional em escolas públicas brasileiras.\n",
    "\n",
    ">A controvérsia, iniciada nos anos 1930, foi reativada em 2010 pela PGR, estimulando o debate jurídico, assim como o público, sobre a laicidade das escolas mantidas pelo Estado. O estopim foi a assinatura de um Acordo entre Brasil e Santa Sé em 2008.\n",
    "\n",
    "> Na Audiência Pública realizada em 2015, o Tribunal, por meio do ministro Roberto Barroso, ouviu a posição de trinta e dois representantes religiosos e seculares. A maioria dos oradores posiciou-se contra a confessionalidade do ensino religioso.\n",
    "\n",
    "> A decisão dos ministros do STF, no entanto, legitimou o ensino religioso confessional nas escolas. Detalhes podem ser vistos neste [artigo](https://www.researchgate.net/publication/338844101_Religiao_e_laicidade_no_STF_as_figuracoes_do_secular_no_debate_brasileiro_sobre_o_ensino_religioso_publico)."
   ]
  },
  {
   "cell_type": "markdown",
   "metadata": {},
   "source": [
    "##### _Importando o Pandas_"
   ]
  },
  {
   "cell_type": "code",
   "execution_count": 76,
   "metadata": {},
   "outputs": [],
   "source": [
    "import pandas as pd"
   ]
  },
  {
   "cell_type": "markdown",
   "metadata": {},
   "source": [
    "##### _Criando uma lista_"
   ]
  },
  {
   "cell_type": "code",
   "execution_count": 77,
   "metadata": {},
   "outputs": [],
   "source": [
    "dados2 = {\n",
    "\n",
    "    'ministros' : ['Moraes','Tofoli','Mendes','Carmen','Barroso','Levandowsky','Fux','Fachin','Marco Aurélio','Celso de Melo','Weber'],\n",
    "    'votos_dummie' : [1,1,1,1,0,1,0,1,0,0,0],\n",
    "    'votos_categorias' : ['sim','sim','sim','sim','não','sim','não','sim','não','não','não'],\n",
    "    'genero_ministros' : ['M','M','M','F','M','M','M','M','M','M','F']\n",
    "    \n",
    "    }"
   ]
  },
  {
   "cell_type": "markdown",
   "metadata": {},
   "source": [
    "##### _Tipo da base de dados_"
   ]
  },
  {
   "cell_type": "code",
   "execution_count": 78,
   "metadata": {},
   "outputs": [
    {
     "name": "stdout",
     "output_type": "stream",
     "text": [
      "Os dados estão no formato: <class 'dict'>\n"
     ]
    }
   ],
   "source": [
    "print(f\"Os dados estão no formato: {type(dados2)}\")"
   ]
  },
  {
   "cell_type": "markdown",
   "metadata": {},
   "source": [
    "##### _Visualização dos dados_"
   ]
  },
  {
   "cell_type": "code",
   "execution_count": 79,
   "metadata": {},
   "outputs": [
    {
     "data": {
      "text/plain": [
       "{'ministros': ['Moraes',\n",
       "  'Tofoli',\n",
       "  'Mendes',\n",
       "  'Carmen',\n",
       "  'Barroso',\n",
       "  'Levandowsky',\n",
       "  'Fux',\n",
       "  'Fachin',\n",
       "  'Marco Aurélio',\n",
       "  'Celso de Melo',\n",
       "  'Weber'],\n",
       " 'votos_dummie': [1, 1, 1, 1, 0, 1, 0, 1, 0, 0, 0],\n",
       " 'votos_categorias': ['sim',\n",
       "  'sim',\n",
       "  'sim',\n",
       "  'sim',\n",
       "  'não',\n",
       "  'sim',\n",
       "  'não',\n",
       "  'sim',\n",
       "  'não',\n",
       "  'não',\n",
       "  'não'],\n",
       " 'genero_ministros': ['M', 'M', 'M', 'F', 'M', 'M', 'M', 'M', 'M', 'M', 'F']}"
      ]
     },
     "execution_count": 79,
     "metadata": {},
     "output_type": "execute_result"
    }
   ],
   "source": [
    "dados2"
   ]
  },
  {
   "cell_type": "markdown",
   "metadata": {},
   "source": [
    "##### _Transformando o dicionário num DataFrame_"
   ]
  },
  {
   "cell_type": "code",
   "execution_count": 80,
   "metadata": {},
   "outputs": [],
   "source": [
    "df2 = pd.DataFrame(dados2)"
   ]
  },
  {
   "cell_type": "markdown",
   "metadata": {},
   "source": [
    "##### _Tipo da estrutura de dados_"
   ]
  },
  {
   "cell_type": "code",
   "execution_count": 81,
   "metadata": {},
   "outputs": [
    {
     "name": "stdout",
     "output_type": "stream",
     "text": [
      "Os DataFrame está no formato: <class 'pandas.core.frame.DataFrame'>\n"
     ]
    }
   ],
   "source": [
    "print(f\"Os DataFrame está no formato: {type(df2)}\")"
   ]
  },
  {
   "cell_type": "markdown",
   "metadata": {},
   "source": [
    "##### _Informações sobre a estrutura de dados_"
   ]
  },
  {
   "cell_type": "code",
   "execution_count": 82,
   "metadata": {},
   "outputs": [
    {
     "name": "stdout",
     "output_type": "stream",
     "text": [
      "<class 'pandas.core.frame.DataFrame'>\n",
      "RangeIndex: 11 entries, 0 to 10\n",
      "Data columns (total 4 columns):\n",
      " #   Column            Non-Null Count  Dtype \n",
      "---  ------            --------------  ----- \n",
      " 0   ministros         11 non-null     object\n",
      " 1   votos_dummie      11 non-null     int64 \n",
      " 2   votos_categorias  11 non-null     object\n",
      " 3   genero_ministros  11 non-null     object\n",
      "dtypes: int64(1), object(3)\n",
      "memory usage: 480.0+ bytes\n"
     ]
    }
   ],
   "source": [
    "df2.info()"
   ]
  },
  {
   "cell_type": "markdown",
   "metadata": {},
   "source": [
    "##### _O que é um DataFrame Pandas?_\n",
    "\n"
   ]
  },
  {
   "cell_type": "code",
   "execution_count": 83,
   "metadata": {},
   "outputs": [
    {
     "data": {
      "text/html": [
       "<div>\n",
       "<style scoped>\n",
       "    .dataframe tbody tr th:only-of-type {\n",
       "        vertical-align: middle;\n",
       "    }\n",
       "\n",
       "    .dataframe tbody tr th {\n",
       "        vertical-align: top;\n",
       "    }\n",
       "\n",
       "    .dataframe thead th {\n",
       "        text-align: right;\n",
       "    }\n",
       "</style>\n",
       "<table border=\"1\" class=\"dataframe\">\n",
       "  <thead>\n",
       "    <tr style=\"text-align: right;\">\n",
       "      <th></th>\n",
       "      <th>ministros</th>\n",
       "      <th>votos_dummie</th>\n",
       "      <th>votos_categorias</th>\n",
       "      <th>genero_ministros</th>\n",
       "    </tr>\n",
       "  </thead>\n",
       "  <tbody>\n",
       "    <tr>\n",
       "      <th>0</th>\n",
       "      <td>Moraes</td>\n",
       "      <td>1</td>\n",
       "      <td>sim</td>\n",
       "      <td>M</td>\n",
       "    </tr>\n",
       "    <tr>\n",
       "      <th>1</th>\n",
       "      <td>Tofoli</td>\n",
       "      <td>1</td>\n",
       "      <td>sim</td>\n",
       "      <td>M</td>\n",
       "    </tr>\n",
       "    <tr>\n",
       "      <th>2</th>\n",
       "      <td>Mendes</td>\n",
       "      <td>1</td>\n",
       "      <td>sim</td>\n",
       "      <td>M</td>\n",
       "    </tr>\n",
       "    <tr>\n",
       "      <th>3</th>\n",
       "      <td>Carmen</td>\n",
       "      <td>1</td>\n",
       "      <td>sim</td>\n",
       "      <td>F</td>\n",
       "    </tr>\n",
       "    <tr>\n",
       "      <th>4</th>\n",
       "      <td>Barroso</td>\n",
       "      <td>0</td>\n",
       "      <td>não</td>\n",
       "      <td>M</td>\n",
       "    </tr>\n",
       "    <tr>\n",
       "      <th>5</th>\n",
       "      <td>Levandowsky</td>\n",
       "      <td>1</td>\n",
       "      <td>sim</td>\n",
       "      <td>M</td>\n",
       "    </tr>\n",
       "    <tr>\n",
       "      <th>6</th>\n",
       "      <td>Fux</td>\n",
       "      <td>0</td>\n",
       "      <td>não</td>\n",
       "      <td>M</td>\n",
       "    </tr>\n",
       "    <tr>\n",
       "      <th>7</th>\n",
       "      <td>Fachin</td>\n",
       "      <td>1</td>\n",
       "      <td>sim</td>\n",
       "      <td>M</td>\n",
       "    </tr>\n",
       "    <tr>\n",
       "      <th>8</th>\n",
       "      <td>Marco Aurélio</td>\n",
       "      <td>0</td>\n",
       "      <td>não</td>\n",
       "      <td>M</td>\n",
       "    </tr>\n",
       "    <tr>\n",
       "      <th>9</th>\n",
       "      <td>Celso de Melo</td>\n",
       "      <td>0</td>\n",
       "      <td>não</td>\n",
       "      <td>M</td>\n",
       "    </tr>\n",
       "    <tr>\n",
       "      <th>10</th>\n",
       "      <td>Weber</td>\n",
       "      <td>0</td>\n",
       "      <td>não</td>\n",
       "      <td>F</td>\n",
       "    </tr>\n",
       "  </tbody>\n",
       "</table>\n",
       "</div>"
      ],
      "text/plain": [
       "        ministros  votos_dummie votos_categorias genero_ministros\n",
       "0          Moraes             1              sim                M\n",
       "1          Tofoli             1              sim                M\n",
       "2          Mendes             1              sim                M\n",
       "3          Carmen             1              sim                F\n",
       "4         Barroso             0              não                M\n",
       "5     Levandowsky             1              sim                M\n",
       "6             Fux             0              não                M\n",
       "7          Fachin             1              sim                M\n",
       "8   Marco Aurélio             0              não                M\n",
       "9   Celso de Melo             0              não                M\n",
       "10          Weber             0              não                F"
      ]
     },
     "execution_count": 83,
     "metadata": {},
     "output_type": "execute_result"
    }
   ],
   "source": [
    "df2"
   ]
  },
  {
   "cell_type": "markdown",
   "metadata": {},
   "source": [
    "#### **Agora, vamos salvar o DataFrame no Colab?**"
   ]
  },
  {
   "cell_type": "code",
   "execution_count": 84,
   "metadata": {},
   "outputs": [
    {
     "ename": "ModuleNotFoundError",
     "evalue": "No module named 'google.colab'",
     "output_type": "error",
     "traceback": [
      "\u001b[1;31m---------------------------------------------------------------------------\u001b[0m",
      "\u001b[1;31mModuleNotFoundError\u001b[0m                       Traceback (most recent call last)",
      "\u001b[1;32mx:\\(fgv 2023) workshop python para classificação de textos\\workshop-python-para-classificacao-textual\\Aulas\\Aula 4\\aula4_respostas.ipynb Célula 29\u001b[0m in \u001b[0;36m<cell line: 2>\u001b[1;34m()\u001b[0m\n\u001b[0;32m      <a href='vscode-notebook-cell:/x%3A/%28fgv%202023%29%20workshop%20python%20para%20classifica%C3%A7%C3%A3o%20de%20textos/workshop-python-para-classificacao-textual/Aulas/Aula%204/aula4_respostas.ipynb#X40sZmlsZQ%3D%3D?line=0'>1</a>\u001b[0m \u001b[39m## Montar o Google Drive\u001b[39;00m\n\u001b[1;32m----> <a href='vscode-notebook-cell:/x%3A/%28fgv%202023%29%20workshop%20python%20para%20classifica%C3%A7%C3%A3o%20de%20textos/workshop-python-para-classificacao-textual/Aulas/Aula%204/aula4_respostas.ipynb#X40sZmlsZQ%3D%3D?line=1'>2</a>\u001b[0m \u001b[39mfrom\u001b[39;00m \u001b[39mgoogle\u001b[39;00m\u001b[39m.\u001b[39;00m\u001b[39mcolab\u001b[39;00m \u001b[39mimport\u001b[39;00m drive\n\u001b[0;32m      <a href='vscode-notebook-cell:/x%3A/%28fgv%202023%29%20workshop%20python%20para%20classifica%C3%A7%C3%A3o%20de%20textos/workshop-python-para-classificacao-textual/Aulas/Aula%204/aula4_respostas.ipynb#X40sZmlsZQ%3D%3D?line=2'>3</a>\u001b[0m drive\u001b[39m.\u001b[39mmount(\u001b[39m'\u001b[39m\u001b[39m/content/gdrive\u001b[39m\u001b[39m'\u001b[39m)\n",
      "\u001b[1;31mModuleNotFoundError\u001b[0m: No module named 'google.colab'"
     ]
    }
   ],
   "source": [
    "## Montar o Google Drive\n",
    "from google.colab import drive\n",
    "drive.mount('/content/gdrive')"
   ]
  },
  {
   "cell_type": "code",
   "execution_count": 85,
   "metadata": {},
   "outputs": [],
   "source": [
    "## importação do Pandas\n",
    "import pandas as pd\n",
    "\n",
    "## criação de uma estrutura de dados com formato de dicionário\n",
    "dados = {\n",
    "    'ministros' : ['Moraes','Tofoli','Mendes','Carmen','Barroso','Levandowsky','Fux','Fachin','Marco Aurélio','Celso de Melo','Weber'],\n",
    "    'votos_num' : [1,1,1,1,0,1,0,1,0,0,0],\n",
    "    'votos_cat' : ['sim','sim','sim','sim','não','sim','não','sim','não','não','não'],\n",
    "    'gênero' : ['M','M','M','F','M','M','M','M','M','M','F']\n",
    "    }\n",
    "\n",
    "## transformação do dicionário num dataframe pandas\n",
    "df2 = pd.DataFrame(dados)\n",
    "\n",
    "## impreção do dataframe\n",
    "df2\n",
    "\n",
    "## Na aba esquerda do Colab, encontre a pasta onde salvou o conteúdo da oficina.\n",
    "### Abra a pasta da Aula 4\n",
    "### Clique com o botão esquerdo do mouse, e selecione a opção \"copiar caminho\"\n",
    "\n",
    "## salvando o dataframe nos formatos xlsx, csv, txt\n",
    "## xlsx\n",
    "df2.to_excel('dados_min.xlsx')\n",
    "## csv\n",
    "df2.to_csv('dados_min.csv',sep=';', encoding='utf-8-sig')\n",
    "## txt\n",
    "df2.to_csv('dados_min.txt',encoding='utf-8-sig')"
   ]
  },
  {
   "cell_type": "markdown",
   "metadata": {},
   "source": [
    "## **Parte 2**\n",
    "## **Importação de tabelas**"
   ]
  },
  {
   "cell_type": "markdown",
   "metadata": {},
   "source": [
    "##### _Importação de arquivos do Colab_"
   ]
  },
  {
   "cell_type": "code",
   "execution_count": 86,
   "metadata": {},
   "outputs": [],
   "source": [
    "## CSV\n",
    "dadosMinCSV = pd.read_csv('dados_min.csv',sep=';', encoding='utf-8-sig',)"
   ]
  },
  {
   "cell_type": "code",
   "execution_count": 87,
   "metadata": {},
   "outputs": [],
   "source": [
    "## XLSX\n",
    "dadosMinXLSX = pd.read_excel('dados_min.xlsx')"
   ]
  },
  {
   "cell_type": "code",
   "execution_count": 88,
   "metadata": {},
   "outputs": [],
   "source": [
    "## TXT\n",
    "dadosMinTXT = pd.read_csv('dados_min.csv',sep=';', encoding='utf-8-sig')"
   ]
  },
  {
   "cell_type": "markdown",
   "metadata": {},
   "source": [
    "##### _Importação de aquivos da Internet_\n",
    "\n",
    "Usaremos os Dados Abertos do Instituto Chico Mendes [aqui]('https://www.gov.br/icmbio/pt-br/acesso-a-informacao/dados-abertos')"
   ]
  },
  {
   "cell_type": "markdown",
   "metadata": {},
   "source": []
  },
  {
   "cell_type": "code",
   "execution_count": 89,
   "metadata": {},
   "outputs": [],
   "source": [
    "import pandas as pd\n",
    "desmatamento = pd.read_csv('https://www.gov.br/icmbio/pt-br/acesso-a-informacao/dados-abertos/arquivos/desmatamento-em-unidades-de-conservacao-federais/desmatamento_ucs_atualizado_2021.csv/@@download/file', encoding='windows-1252', sep=';')"
   ]
  },
  {
   "cell_type": "markdown",
   "metadata": {},
   "source": [
    "## **Parte 3** \n",
    "## **Conhecendo o DataFrame**"
   ]
  },
  {
   "cell_type": "code",
   "execution_count": 90,
   "metadata": {},
   "outputs": [
    {
     "data": {
      "text/html": [
       "<div>\n",
       "<style scoped>\n",
       "    .dataframe tbody tr th:only-of-type {\n",
       "        vertical-align: middle;\n",
       "    }\n",
       "\n",
       "    .dataframe tbody tr th {\n",
       "        vertical-align: top;\n",
       "    }\n",
       "\n",
       "    .dataframe thead th {\n",
       "        text-align: right;\n",
       "    }\n",
       "</style>\n",
       "<table border=\"1\" class=\"dataframe\">\n",
       "  <thead>\n",
       "    <tr style=\"text-align: right;\">\n",
       "      <th></th>\n",
       "      <th>cnuc</th>\n",
       "      <th>uc</th>\n",
       "      <th>biocgfun</th>\n",
       "      <th>prodes</th>\n",
       "      <th>2021</th>\n",
       "      <th>2020</th>\n",
       "      <th>2019</th>\n",
       "      <th>2018</th>\n",
       "      <th>2017</th>\n",
       "      <th>2016</th>\n",
       "      <th>...</th>\n",
       "      <th>2008</th>\n",
       "      <th>2007</th>\n",
       "      <th>2006</th>\n",
       "      <th>2005</th>\n",
       "      <th>2004</th>\n",
       "      <th>2003</th>\n",
       "      <th>2002</th>\n",
       "      <th>2001</th>\n",
       "      <th>2000</th>\n",
       "      <th>1997</th>\n",
       "    </tr>\n",
       "  </thead>\n",
       "  <tbody>\n",
       "    <tr>\n",
       "      <th>0</th>\n",
       "      <td>0000.00.0001</td>\n",
       "      <td>APA Anhatomirim</td>\n",
       "      <td>Marinho-Costeiro</td>\n",
       "      <td>Não</td>\n",
       "      <td>0</td>\n",
       "      <td>0</td>\n",
       "      <td>0</td>\n",
       "      <td>0</td>\n",
       "      <td>0</td>\n",
       "      <td>0</td>\n",
       "      <td>...</td>\n",
       "      <td>0</td>\n",
       "      <td>0</td>\n",
       "      <td>0</td>\n",
       "      <td>0</td>\n",
       "      <td>0</td>\n",
       "      <td>0</td>\n",
       "      <td>0</td>\n",
       "      <td>0</td>\n",
       "      <td>0</td>\n",
       "      <td>0</td>\n",
       "    </tr>\n",
       "    <tr>\n",
       "      <th>1</th>\n",
       "      <td>0000.00.0002</td>\n",
       "      <td>APA Cavernas do Peruaçu</td>\n",
       "      <td>Cerrado</td>\n",
       "      <td>Sim</td>\n",
       "      <td>41,8698</td>\n",
       "      <td>25,9009</td>\n",
       "      <td>8,686</td>\n",
       "      <td>27,0174</td>\n",
       "      <td>90,3144</td>\n",
       "      <td>15,5474</td>\n",
       "      <td>...</td>\n",
       "      <td>127,8657</td>\n",
       "      <td>127,8657</td>\n",
       "      <td>1455,18475</td>\n",
       "      <td>1455,18475</td>\n",
       "      <td>1442,04345</td>\n",
       "      <td>1442,04345</td>\n",
       "      <td>823,97995</td>\n",
       "      <td>823,97995</td>\n",
       "      <td>7048,5908</td>\n",
       "      <td>0</td>\n",
       "    </tr>\n",
       "    <tr>\n",
       "      <th>2</th>\n",
       "      <td>0000.00.0003</td>\n",
       "      <td>APA da Bacia do Rio Descoberto</td>\n",
       "      <td>Cerrado</td>\n",
       "      <td>Sim</td>\n",
       "      <td>29,4815</td>\n",
       "      <td>16,9189</td>\n",
       "      <td>6,1382</td>\n",
       "      <td>34,8262</td>\n",
       "      <td>47,261</td>\n",
       "      <td>27,5458</td>\n",
       "      <td>...</td>\n",
       "      <td>60,666</td>\n",
       "      <td>60,666</td>\n",
       "      <td>133,0672</td>\n",
       "      <td>133,0672</td>\n",
       "      <td>424,46005</td>\n",
       "      <td>424,46005</td>\n",
       "      <td>35,2013</td>\n",
       "      <td>35,2013</td>\n",
       "      <td>24411,3688</td>\n",
       "      <td>0</td>\n",
       "    </tr>\n",
       "    <tr>\n",
       "      <th>3</th>\n",
       "      <td>0000.00.0004</td>\n",
       "      <td>APA da Bacia do Rio São Bartolomeu</td>\n",
       "      <td>Cerrado</td>\n",
       "      <td>Sim</td>\n",
       "      <td>81,5854</td>\n",
       "      <td>75,1749</td>\n",
       "      <td>80,5036</td>\n",
       "      <td>185,9016</td>\n",
       "      <td>65,1662</td>\n",
       "      <td>32,8627</td>\n",
       "      <td>...</td>\n",
       "      <td>114,38775</td>\n",
       "      <td>114,38775</td>\n",
       "      <td>521,3432</td>\n",
       "      <td>521,3432</td>\n",
       "      <td>1970,2341</td>\n",
       "      <td>1970,2341</td>\n",
       "      <td>110,89395</td>\n",
       "      <td>110,89395</td>\n",
       "      <td>40247,2264</td>\n",
       "      <td>0</td>\n",
       "    </tr>\n",
       "    <tr>\n",
       "      <th>4</th>\n",
       "      <td>0000.00.0005</td>\n",
       "      <td>APA da Bacia do Rio São João - Mico-Leão-Dourado</td>\n",
       "      <td>Mata Atlântica</td>\n",
       "      <td>Não</td>\n",
       "      <td>0</td>\n",
       "      <td>0</td>\n",
       "      <td>0</td>\n",
       "      <td>0</td>\n",
       "      <td>0</td>\n",
       "      <td>0</td>\n",
       "      <td>...</td>\n",
       "      <td>0</td>\n",
       "      <td>0</td>\n",
       "      <td>0</td>\n",
       "      <td>0</td>\n",
       "      <td>0</td>\n",
       "      <td>0</td>\n",
       "      <td>0</td>\n",
       "      <td>0</td>\n",
       "      <td>0</td>\n",
       "      <td>0</td>\n",
       "    </tr>\n",
       "  </tbody>\n",
       "</table>\n",
       "<p>5 rows × 27 columns</p>\n",
       "</div>"
      ],
      "text/plain": [
       "           cnuc                                                uc  \\\n",
       "0  0000.00.0001                                   APA Anhatomirim   \n",
       "1  0000.00.0002                           APA Cavernas do Peruaçu   \n",
       "2  0000.00.0003                    APA da Bacia do Rio Descoberto   \n",
       "3  0000.00.0004                APA da Bacia do Rio São Bartolomeu   \n",
       "4  0000.00.0005  APA da Bacia do Rio São João - Mico-Leão-Dourado   \n",
       "\n",
       "           biocgfun prodes     2021     2020     2019      2018     2017  \\\n",
       "0  Marinho-Costeiro    Não        0        0        0         0        0   \n",
       "1           Cerrado    Sim  41,8698  25,9009    8,686   27,0174  90,3144   \n",
       "2           Cerrado    Sim  29,4815  16,9189   6,1382   34,8262   47,261   \n",
       "3           Cerrado    Sim  81,5854  75,1749  80,5036  185,9016  65,1662   \n",
       "4    Mata Atlântica    Não        0        0        0         0        0   \n",
       "\n",
       "      2016  ...       2008       2007        2006        2005        2004  \\\n",
       "0        0  ...          0          0           0           0           0   \n",
       "1  15,5474  ...   127,8657   127,8657  1455,18475  1455,18475  1442,04345   \n",
       "2  27,5458  ...     60,666     60,666    133,0672    133,0672   424,46005   \n",
       "3  32,8627  ...  114,38775  114,38775    521,3432    521,3432   1970,2341   \n",
       "4        0  ...          0          0           0           0           0   \n",
       "\n",
       "         2003       2002       2001        2000 1997  \n",
       "0           0          0          0           0    0  \n",
       "1  1442,04345  823,97995  823,97995   7048,5908    0  \n",
       "2   424,46005    35,2013    35,2013  24411,3688    0  \n",
       "3   1970,2341  110,89395  110,89395  40247,2264    0  \n",
       "4           0          0          0           0    0  \n",
       "\n",
       "[5 rows x 27 columns]"
      ]
     },
     "execution_count": 90,
     "metadata": {},
     "output_type": "execute_result"
    }
   ],
   "source": [
    "# Metodo head() imprime as 5 linhas iniciais do dataframe.\n",
    "desmatamento.head()"
   ]
  },
  {
   "cell_type": "code",
   "execution_count": 91,
   "metadata": {},
   "outputs": [],
   "source": [
    "# O parâmetro index_col informa a coluna ndesmatamentoa qual o dataframe será indexado\n",
    "desmatamento = pd.read_csv('https://www.gov.br/icmbio/pt-br/acesso-a-informacao/dados-abertos/arquivos/desmatamento-em-unidades-de-conservacao-federais/desmatamento_ucs_atualizado_2021.csv/@@download/file', encoding='windows-1252', sep=';', index_col='uc')"
   ]
  },
  {
   "cell_type": "code",
   "execution_count": 92,
   "metadata": {},
   "outputs": [
    {
     "data": {
      "text/html": [
       "<div>\n",
       "<style scoped>\n",
       "    .dataframe tbody tr th:only-of-type {\n",
       "        vertical-align: middle;\n",
       "    }\n",
       "\n",
       "    .dataframe tbody tr th {\n",
       "        vertical-align: top;\n",
       "    }\n",
       "\n",
       "    .dataframe thead th {\n",
       "        text-align: right;\n",
       "    }\n",
       "</style>\n",
       "<table border=\"1\" class=\"dataframe\">\n",
       "  <thead>\n",
       "    <tr style=\"text-align: right;\">\n",
       "      <th></th>\n",
       "      <th>cnuc</th>\n",
       "      <th>biocgfun</th>\n",
       "      <th>prodes</th>\n",
       "      <th>2021</th>\n",
       "      <th>2020</th>\n",
       "      <th>2019</th>\n",
       "      <th>2018</th>\n",
       "      <th>2017</th>\n",
       "      <th>2016</th>\n",
       "      <th>2015</th>\n",
       "      <th>...</th>\n",
       "      <th>2008</th>\n",
       "      <th>2007</th>\n",
       "      <th>2006</th>\n",
       "      <th>2005</th>\n",
       "      <th>2004</th>\n",
       "      <th>2003</th>\n",
       "      <th>2002</th>\n",
       "      <th>2001</th>\n",
       "      <th>2000</th>\n",
       "      <th>1997</th>\n",
       "    </tr>\n",
       "    <tr>\n",
       "      <th>uc</th>\n",
       "      <th></th>\n",
       "      <th></th>\n",
       "      <th></th>\n",
       "      <th></th>\n",
       "      <th></th>\n",
       "      <th></th>\n",
       "      <th></th>\n",
       "      <th></th>\n",
       "      <th></th>\n",
       "      <th></th>\n",
       "      <th></th>\n",
       "      <th></th>\n",
       "      <th></th>\n",
       "      <th></th>\n",
       "      <th></th>\n",
       "      <th></th>\n",
       "      <th></th>\n",
       "      <th></th>\n",
       "      <th></th>\n",
       "      <th></th>\n",
       "      <th></th>\n",
       "    </tr>\n",
       "  </thead>\n",
       "  <tbody>\n",
       "    <tr>\n",
       "      <th>APA Anhatomirim</th>\n",
       "      <td>0000.00.0001</td>\n",
       "      <td>Marinho-Costeiro</td>\n",
       "      <td>Não</td>\n",
       "      <td>0</td>\n",
       "      <td>0</td>\n",
       "      <td>0</td>\n",
       "      <td>0</td>\n",
       "      <td>0</td>\n",
       "      <td>0</td>\n",
       "      <td>0</td>\n",
       "      <td>...</td>\n",
       "      <td>0</td>\n",
       "      <td>0</td>\n",
       "      <td>0</td>\n",
       "      <td>0</td>\n",
       "      <td>0</td>\n",
       "      <td>0</td>\n",
       "      <td>0</td>\n",
       "      <td>0</td>\n",
       "      <td>0</td>\n",
       "      <td>0</td>\n",
       "    </tr>\n",
       "    <tr>\n",
       "      <th>APA Cavernas do Peruaçu</th>\n",
       "      <td>0000.00.0002</td>\n",
       "      <td>Cerrado</td>\n",
       "      <td>Sim</td>\n",
       "      <td>41,8698</td>\n",
       "      <td>25,9009</td>\n",
       "      <td>8,686</td>\n",
       "      <td>27,0174</td>\n",
       "      <td>90,3144</td>\n",
       "      <td>15,5474</td>\n",
       "      <td>95,8332</td>\n",
       "      <td>...</td>\n",
       "      <td>127,8657</td>\n",
       "      <td>127,8657</td>\n",
       "      <td>1455,18475</td>\n",
       "      <td>1455,18475</td>\n",
       "      <td>1442,04345</td>\n",
       "      <td>1442,04345</td>\n",
       "      <td>823,97995</td>\n",
       "      <td>823,97995</td>\n",
       "      <td>7048,5908</td>\n",
       "      <td>0</td>\n",
       "    </tr>\n",
       "    <tr>\n",
       "      <th>APA da Bacia do Rio Descoberto</th>\n",
       "      <td>0000.00.0003</td>\n",
       "      <td>Cerrado</td>\n",
       "      <td>Sim</td>\n",
       "      <td>29,4815</td>\n",
       "      <td>16,9189</td>\n",
       "      <td>6,1382</td>\n",
       "      <td>34,8262</td>\n",
       "      <td>47,261</td>\n",
       "      <td>27,5458</td>\n",
       "      <td>15,1121</td>\n",
       "      <td>...</td>\n",
       "      <td>60,666</td>\n",
       "      <td>60,666</td>\n",
       "      <td>133,0672</td>\n",
       "      <td>133,0672</td>\n",
       "      <td>424,46005</td>\n",
       "      <td>424,46005</td>\n",
       "      <td>35,2013</td>\n",
       "      <td>35,2013</td>\n",
       "      <td>24411,3688</td>\n",
       "      <td>0</td>\n",
       "    </tr>\n",
       "    <tr>\n",
       "      <th>APA da Bacia do Rio São Bartolomeu</th>\n",
       "      <td>0000.00.0004</td>\n",
       "      <td>Cerrado</td>\n",
       "      <td>Sim</td>\n",
       "      <td>81,5854</td>\n",
       "      <td>75,1749</td>\n",
       "      <td>80,5036</td>\n",
       "      <td>185,9016</td>\n",
       "      <td>65,1662</td>\n",
       "      <td>32,8627</td>\n",
       "      <td>100,6799</td>\n",
       "      <td>...</td>\n",
       "      <td>114,38775</td>\n",
       "      <td>114,38775</td>\n",
       "      <td>521,3432</td>\n",
       "      <td>521,3432</td>\n",
       "      <td>1970,2341</td>\n",
       "      <td>1970,2341</td>\n",
       "      <td>110,89395</td>\n",
       "      <td>110,89395</td>\n",
       "      <td>40247,2264</td>\n",
       "      <td>0</td>\n",
       "    </tr>\n",
       "    <tr>\n",
       "      <th>APA da Bacia do Rio São João - Mico-Leão-Dourado</th>\n",
       "      <td>0000.00.0005</td>\n",
       "      <td>Mata Atlântica</td>\n",
       "      <td>Não</td>\n",
       "      <td>0</td>\n",
       "      <td>0</td>\n",
       "      <td>0</td>\n",
       "      <td>0</td>\n",
       "      <td>0</td>\n",
       "      <td>0</td>\n",
       "      <td>0</td>\n",
       "      <td>...</td>\n",
       "      <td>0</td>\n",
       "      <td>0</td>\n",
       "      <td>0</td>\n",
       "      <td>0</td>\n",
       "      <td>0</td>\n",
       "      <td>0</td>\n",
       "      <td>0</td>\n",
       "      <td>0</td>\n",
       "      <td>0</td>\n",
       "      <td>0</td>\n",
       "    </tr>\n",
       "  </tbody>\n",
       "</table>\n",
       "<p>5 rows × 26 columns</p>\n",
       "</div>"
      ],
      "text/plain": [
       "                                                          cnuc  \\\n",
       "uc                                                               \n",
       "APA Anhatomirim                                   0000.00.0001   \n",
       "APA Cavernas do Peruaçu                           0000.00.0002   \n",
       "APA da Bacia do Rio Descoberto                    0000.00.0003   \n",
       "APA da Bacia do Rio São Bartolomeu                0000.00.0004   \n",
       "APA da Bacia do Rio São João - Mico-Leão-Dourado  0000.00.0005   \n",
       "\n",
       "                                                          biocgfun prodes  \\\n",
       "uc                                                                          \n",
       "APA Anhatomirim                                   Marinho-Costeiro    Não   \n",
       "APA Cavernas do Peruaçu                                    Cerrado    Sim   \n",
       "APA da Bacia do Rio Descoberto                             Cerrado    Sim   \n",
       "APA da Bacia do Rio São Bartolomeu                         Cerrado    Sim   \n",
       "APA da Bacia do Rio São João - Mico-Leão-Dourado    Mata Atlântica    Não   \n",
       "\n",
       "                                                     2021     2020     2019  \\\n",
       "uc                                                                            \n",
       "APA Anhatomirim                                         0        0        0   \n",
       "APA Cavernas do Peruaçu                           41,8698  25,9009    8,686   \n",
       "APA da Bacia do Rio Descoberto                    29,4815  16,9189   6,1382   \n",
       "APA da Bacia do Rio São Bartolomeu                81,5854  75,1749  80,5036   \n",
       "APA da Bacia do Rio São João - Mico-Leão-Dourado        0        0        0   \n",
       "\n",
       "                                                      2018     2017     2016  \\\n",
       "uc                                                                             \n",
       "APA Anhatomirim                                          0        0        0   \n",
       "APA Cavernas do Peruaçu                            27,0174  90,3144  15,5474   \n",
       "APA da Bacia do Rio Descoberto                     34,8262   47,261  27,5458   \n",
       "APA da Bacia do Rio São Bartolomeu                185,9016  65,1662  32,8627   \n",
       "APA da Bacia do Rio São João - Mico-Leão-Dourado         0        0        0   \n",
       "\n",
       "                                                      2015  ...       2008  \\\n",
       "uc                                                          ...              \n",
       "APA Anhatomirim                                          0  ...          0   \n",
       "APA Cavernas do Peruaçu                            95,8332  ...   127,8657   \n",
       "APA da Bacia do Rio Descoberto                     15,1121  ...     60,666   \n",
       "APA da Bacia do Rio São Bartolomeu                100,6799  ...  114,38775   \n",
       "APA da Bacia do Rio São João - Mico-Leão-Dourado         0  ...          0   \n",
       "\n",
       "                                                       2007        2006  \\\n",
       "uc                                                                        \n",
       "APA Anhatomirim                                           0           0   \n",
       "APA Cavernas do Peruaçu                            127,8657  1455,18475   \n",
       "APA da Bacia do Rio Descoberto                       60,666    133,0672   \n",
       "APA da Bacia do Rio São Bartolomeu                114,38775    521,3432   \n",
       "APA da Bacia do Rio São João - Mico-Leão-Dourado          0           0   \n",
       "\n",
       "                                                        2005        2004  \\\n",
       "uc                                                                         \n",
       "APA Anhatomirim                                            0           0   \n",
       "APA Cavernas do Peruaçu                           1455,18475  1442,04345   \n",
       "APA da Bacia do Rio Descoberto                      133,0672   424,46005   \n",
       "APA da Bacia do Rio São Bartolomeu                  521,3432   1970,2341   \n",
       "APA da Bacia do Rio São João - Mico-Leão-Dourado           0           0   \n",
       "\n",
       "                                                        2003       2002  \\\n",
       "uc                                                                        \n",
       "APA Anhatomirim                                            0          0   \n",
       "APA Cavernas do Peruaçu                           1442,04345  823,97995   \n",
       "APA da Bacia do Rio Descoberto                     424,46005    35,2013   \n",
       "APA da Bacia do Rio São Bartolomeu                 1970,2341  110,89395   \n",
       "APA da Bacia do Rio São João - Mico-Leão-Dourado           0          0   \n",
       "\n",
       "                                                       2001        2000 1997  \n",
       "uc                                                                            \n",
       "APA Anhatomirim                                           0           0    0  \n",
       "APA Cavernas do Peruaçu                           823,97995   7048,5908    0  \n",
       "APA da Bacia do Rio Descoberto                      35,2013  24411,3688    0  \n",
       "APA da Bacia do Rio São Bartolomeu                110,89395  40247,2264    0  \n",
       "APA da Bacia do Rio São João - Mico-Leão-Dourado          0           0    0  \n",
       "\n",
       "[5 rows x 26 columns]"
      ]
     },
     "execution_count": 92,
     "metadata": {},
     "output_type": "execute_result"
    }
   ],
   "source": [
    "# Metodo head() imprime as 5 linhas iniciais do dataframe.\n",
    "# Metodo tail() imprime as 5 ultimas linhas.\n",
    "desmatamento.head()"
   ]
  },
  {
   "cell_type": "code",
   "execution_count": 93,
   "metadata": {},
   "outputs": [],
   "source": [
    "# O parâmetro index_col informa a coluna ndesmatamentoa qual o dataframe será indexado\n",
    "desmatamento = pd.read_csv('https://www.gov.br/icmbio/pt-br/acesso-a-informacao/dados-abertos/arquivos/desmatamento-em-unidades-de-conservacao-federais/desmatamento_ucs_atualizado_2021.csv/@@download/file', usecols=['cnuc', 'biocgfun', 'prodes', '2021', '2020'], encoding='windows-1252', sep=';')"
   ]
  },
  {
   "cell_type": "code",
   "execution_count": 94,
   "metadata": {},
   "outputs": [
    {
     "data": {
      "text/plain": [
       "Index(['cnuc', 'biocgfun', 'prodes', '2021', '2020'], dtype='object')"
      ]
     },
     "execution_count": 94,
     "metadata": {},
     "output_type": "execute_result"
    }
   ],
   "source": [
    "# Atributo columns retorna o nome das colunas do dataframe.\n",
    "desmatamento.columns"
   ]
  },
  {
   "cell_type": "code",
   "execution_count": 95,
   "metadata": {},
   "outputs": [
    {
     "data": {
      "text/plain": [
       "cnuc        325\n",
       "biocgfun    325\n",
       "prodes      325\n",
       "2021        325\n",
       "2020        325\n",
       "dtype: int64"
      ]
     },
     "execution_count": 95,
     "metadata": {},
     "output_type": "execute_result"
    }
   ],
   "source": [
    "# Método count() retorna a quantidade de linhas de todas as colunas.\n",
    "desmatamento.count()"
   ]
  },
  {
   "cell_type": "code",
   "execution_count": 96,
   "metadata": {},
   "outputs": [
    {
     "data": {
      "text/html": [
       "<div>\n",
       "<style scoped>\n",
       "    .dataframe tbody tr th:only-of-type {\n",
       "        vertical-align: middle;\n",
       "    }\n",
       "\n",
       "    .dataframe tbody tr th {\n",
       "        vertical-align: top;\n",
       "    }\n",
       "\n",
       "    .dataframe thead th {\n",
       "        text-align: right;\n",
       "    }\n",
       "</style>\n",
       "<table border=\"1\" class=\"dataframe\">\n",
       "  <thead>\n",
       "    <tr style=\"text-align: right;\">\n",
       "      <th></th>\n",
       "      <th>cnuc</th>\n",
       "      <th>biocgfun</th>\n",
       "      <th>prodes</th>\n",
       "      <th>2021</th>\n",
       "      <th>2020</th>\n",
       "    </tr>\n",
       "  </thead>\n",
       "  <tbody>\n",
       "    <tr>\n",
       "      <th>count</th>\n",
       "      <td>325</td>\n",
       "      <td>325</td>\n",
       "      <td>325</td>\n",
       "      <td>325</td>\n",
       "      <td>325</td>\n",
       "    </tr>\n",
       "    <tr>\n",
       "      <th>unique</th>\n",
       "      <td>325</td>\n",
       "      <td>7</td>\n",
       "      <td>2</td>\n",
       "      <td>114</td>\n",
       "      <td>108</td>\n",
       "    </tr>\n",
       "    <tr>\n",
       "      <th>top</th>\n",
       "      <td>0000.00.0001</td>\n",
       "      <td>Amazônia</td>\n",
       "      <td>Sim</td>\n",
       "      <td>0</td>\n",
       "      <td>0</td>\n",
       "    </tr>\n",
       "    <tr>\n",
       "      <th>freq</th>\n",
       "      <td>1</td>\n",
       "      <td>126</td>\n",
       "      <td>172</td>\n",
       "      <td>212</td>\n",
       "      <td>218</td>\n",
       "    </tr>\n",
       "  </tbody>\n",
       "</table>\n",
       "</div>"
      ],
      "text/plain": [
       "                cnuc  biocgfun prodes 2021 2020\n",
       "count            325       325    325  325  325\n",
       "unique           325         7      2  114  108\n",
       "top     0000.00.0001  Amazônia    Sim    0    0\n",
       "freq               1       126    172  212  218"
      ]
     },
     "execution_count": 96,
     "metadata": {},
     "output_type": "execute_result"
    }
   ],
   "source": [
    "# Método describe() exibe informações estatísticas da base de dados. \n",
    "# Várias informações como desvio padrão, média, valor mínimo e valor máximo de colunas.\n",
    "desmatamento.describe()"
   ]
  },
  {
   "cell_type": "code",
   "execution_count": 97,
   "metadata": {},
   "outputs": [
    {
     "data": {
      "text/html": [
       "<div>\n",
       "<style scoped>\n",
       "    .dataframe tbody tr th:only-of-type {\n",
       "        vertical-align: middle;\n",
       "    }\n",
       "\n",
       "    .dataframe tbody tr th {\n",
       "        vertical-align: top;\n",
       "    }\n",
       "\n",
       "    .dataframe thead th {\n",
       "        text-align: right;\n",
       "    }\n",
       "</style>\n",
       "<table border=\"1\" class=\"dataframe\">\n",
       "  <thead>\n",
       "    <tr style=\"text-align: right;\">\n",
       "      <th></th>\n",
       "      <th>cnuc</th>\n",
       "      <th>biocgfun</th>\n",
       "      <th>prodes</th>\n",
       "      <th>2021</th>\n",
       "      <th>2020</th>\n",
       "    </tr>\n",
       "  </thead>\n",
       "  <tbody>\n",
       "    <tr>\n",
       "      <th>136</th>\n",
       "      <td>0000.00.0141</td>\n",
       "      <td>Mata Atlântica</td>\n",
       "      <td>Não</td>\n",
       "      <td>0</td>\n",
       "      <td>0</td>\n",
       "    </tr>\n",
       "    <tr>\n",
       "      <th>47</th>\n",
       "      <td>0000.00.0052</td>\n",
       "      <td>Mata Atlântica</td>\n",
       "      <td>Não</td>\n",
       "      <td>0</td>\n",
       "      <td>0</td>\n",
       "    </tr>\n",
       "    <tr>\n",
       "      <th>319</th>\n",
       "      <td>0000.00.3409</td>\n",
       "      <td>Amazônia</td>\n",
       "      <td>Sim</td>\n",
       "      <td>395,4864</td>\n",
       "      <td>93,2029</td>\n",
       "    </tr>\n",
       "    <tr>\n",
       "      <th>228</th>\n",
       "      <td>0000.00.0235</td>\n",
       "      <td>Amazônia</td>\n",
       "      <td>Sim</td>\n",
       "      <td>13,4651</td>\n",
       "      <td>60,0564</td>\n",
       "    </tr>\n",
       "    <tr>\n",
       "      <th>162</th>\n",
       "      <td>0000.00.0167</td>\n",
       "      <td>Caatinga</td>\n",
       "      <td>Não</td>\n",
       "      <td>0</td>\n",
       "      <td>0</td>\n",
       "    </tr>\n",
       "  </tbody>\n",
       "</table>\n",
       "</div>"
      ],
      "text/plain": [
       "             cnuc        biocgfun prodes      2021     2020\n",
       "136  0000.00.0141  Mata Atlântica    Não         0        0\n",
       "47   0000.00.0052  Mata Atlântica    Não         0        0\n",
       "319  0000.00.3409        Amazônia    Sim  395,4864  93,2029\n",
       "228  0000.00.0235        Amazônia    Sim   13,4651  60,0564\n",
       "162  0000.00.0167        Caatinga    Não         0        0"
      ]
     },
     "execution_count": 97,
     "metadata": {},
     "output_type": "execute_result"
    }
   ],
   "source": [
    "# Imprime uma amostra aleatória do dataset.\n",
    "desmatamento.sample(5)"
   ]
  },
  {
   "cell_type": "code",
   "execution_count": 98,
   "metadata": {},
   "outputs": [
    {
     "data": {
      "text/plain": [
       "(325, 5)"
      ]
     },
     "execution_count": 98,
     "metadata": {},
     "output_type": "execute_result"
    }
   ],
   "source": [
    "# Retorna em formato de tupla a quantidade de linhas e colunas do dataset.\n",
    "desmatamento.shape"
   ]
  },
  {
   "cell_type": "code",
   "execution_count": 99,
   "metadata": {},
   "outputs": [
    {
     "name": "stdout",
     "output_type": "stream",
     "text": [
      "<class 'pandas.core.frame.DataFrame'>\n",
      "RangeIndex: 325 entries, 0 to 324\n",
      "Data columns (total 5 columns):\n",
      " #   Column    Non-Null Count  Dtype \n",
      "---  ------    --------------  ----- \n",
      " 0   cnuc      325 non-null    object\n",
      " 1   biocgfun  325 non-null    object\n",
      " 2   prodes    325 non-null    object\n",
      " 3   2021      325 non-null    object\n",
      " 4   2020      325 non-null    object\n",
      "dtypes: object(5)\n",
      "memory usage: 12.8+ KB\n"
     ]
    }
   ],
   "source": [
    "# Imprime informações sobre colunas e uso de memória.\n",
    "desmatamento.info()"
   ]
  },
  {
   "cell_type": "code",
   "execution_count": 100,
   "metadata": {},
   "outputs": [
    {
     "data": {
      "text/plain": [
       "0      Marinho-Costeiro\n",
       "1               Cerrado\n",
       "2               Cerrado\n",
       "3               Cerrado\n",
       "4        Mata Atlântica\n",
       "             ...       \n",
       "320            Amazônia\n",
       "321            Amazônia\n",
       "322    Marinho-Costeiro\n",
       "323            Amazônia\n",
       "324            Amazônia\n",
       "Name: biocgfun, Length: 325, dtype: object"
      ]
     },
     "execution_count": 100,
     "metadata": {},
     "output_type": "execute_result"
    }
   ],
   "source": [
    "# Visualizando dados de uma ou mais colunas.\n",
    "desmatamento['biocgfun']"
   ]
  },
  {
   "cell_type": "code",
   "execution_count": 101,
   "metadata": {},
   "outputs": [
    {
     "data": {
      "text/plain": [
       "Amazônia            126\n",
       "Mata Atlântica       92\n",
       "Cerrado              45\n",
       "Marinho-Costeiro     33\n",
       "Caatinga             24\n",
       "Pampas                3\n",
       "Pantanal              2\n",
       "Name: biocgfun, dtype: int64"
      ]
     },
     "execution_count": 101,
     "metadata": {},
     "output_type": "execute_result"
    }
   ],
   "source": [
    "# Ver a distribuicao da coluna com o método value_counts().\n",
    "desmatamento['biocgfun'].value_counts()"
   ]
  },
  {
   "cell_type": "code",
   "execution_count": 102,
   "metadata": {},
   "outputs": [
    {
     "data": {
      "text/plain": [
       "Amazônia            38.77\n",
       "Mata Atlântica      28.31\n",
       "Cerrado             13.85\n",
       "Marinho-Costeiro    10.15\n",
       "Caatinga             7.38\n",
       "Pampas               0.92\n",
       "Pantanal             0.62\n",
       "Name: biocgfun, dtype: float64"
      ]
     },
     "execution_count": 102,
     "metadata": {},
     "output_type": "execute_result"
    }
   ],
   "source": [
    "# Ver a distribuicao da coluna em % com o método value_counts().\n",
    "desmatamento['biocgfun'].value_counts(normalize=True).mul(100).round(2)"
   ]
  },
  {
   "cell_type": "markdown",
   "metadata": {},
   "source": [
    "## **Parte 4**\n",
    "## **Percorrendo linhas de um dataset**"
   ]
  },
  {
   "cell_type": "code",
   "execution_count": 122,
   "metadata": {},
   "outputs": [],
   "source": [
    "## Importando a base de dados do facebook da pasta Base de Dados\n",
    "## A função \"nrows\" pode ser usada para inspecionar bigdata. Basta indicar o número de linhas que quer importar. nrows=5\n",
    "#!pip install openpyxl\n",
    "fb = pd.read_excel('X:/(fgv 2023) workshop python para classificação de textos/workshop-python-para-classificacao-textual/Bases de dados/banco_facebook_campanha_2022.xlsx')"
   ]
  },
  {
   "cell_type": "code",
   "execution_count": 106,
   "metadata": {},
   "outputs": [
    {
     "data": {
      "text/html": [
       "<div>\n",
       "<style scoped>\n",
       "    .dataframe tbody tr th:only-of-type {\n",
       "        vertical-align: middle;\n",
       "    }\n",
       "\n",
       "    .dataframe tbody tr th {\n",
       "        vertical-align: top;\n",
       "    }\n",
       "\n",
       "    .dataframe thead th {\n",
       "        text-align: right;\n",
       "    }\n",
       "</style>\n",
       "<table border=\"1\" class=\"dataframe\">\n",
       "  <thead>\n",
       "    <tr style=\"text-align: right;\">\n",
       "      <th></th>\n",
       "      <th>Unnamed: 0</th>\n",
       "      <th>from_name</th>\n",
       "      <th>uf</th>\n",
       "      <th>partido</th>\n",
       "      <th>evangélico?</th>\n",
       "      <th>católico?</th>\n",
       "      <th>created_time</th>\n",
       "      <th>message</th>\n",
       "      <th>shares_count</th>\n",
       "      <th>n_likes</th>\n",
       "      <th>extract_text_pic</th>\n",
       "      <th>permalink_url</th>\n",
       "      <th>userID_tse</th>\n",
       "      <th>userID_ads</th>\n",
       "      <th>denominação?</th>\n",
       "      <th>reeleito_22?</th>\n",
       "      <th>votos</th>\n",
       "      <th>coligacao</th>\n",
       "    </tr>\n",
       "  </thead>\n",
       "  <tbody>\n",
       "    <tr>\n",
       "      <th>0</th>\n",
       "      <td>0</td>\n",
       "      <td>Zé Vitor</td>\n",
       "      <td>MG</td>\n",
       "      <td>PL</td>\n",
       "      <td>não</td>\n",
       "      <td>não</td>\n",
       "      <td>2022-10-03</td>\n",
       "      <td>Agradeço a cada um de vocês pela confiança. Va...</td>\n",
       "      <td>27</td>\n",
       "      <td>137</td>\n",
       "      <td>OPRIGADQ Como apoiode 152.748 mineiros, serão ...</td>\n",
       "      <td>https://www.facebook.com/636003517893991/posts...</td>\n",
       "      <td>130001610999</td>\n",
       "      <td>1082805205172897</td>\n",
       "      <td>sem informação</td>\n",
       "      <td>NaN</td>\n",
       "      <td>152748.0</td>\n",
       "      <td>PL</td>\n",
       "    </tr>\n",
       "    <tr>\n",
       "      <th>1</th>\n",
       "      <td>1</td>\n",
       "      <td>Zé Vitor</td>\n",
       "      <td>MG</td>\n",
       "      <td>PL</td>\n",
       "      <td>não</td>\n",
       "      <td>não</td>\n",
       "      <td>2022-10-01</td>\n",
       "      <td>Foram 4 anos de pé na estrada, levando Minas p...</td>\n",
       "      <td>12</td>\n",
       "      <td>75</td>\n",
       "      <td>ZÉ VITOR 2200 Brasil</td>\n",
       "      <td>https://www.facebook.com/636003517893991/posts...</td>\n",
       "      <td>130001610999</td>\n",
       "      <td>1082805205172897</td>\n",
       "      <td>sem informação</td>\n",
       "      <td>NaN</td>\n",
       "      <td>152748.0</td>\n",
       "      <td>PL</td>\n",
       "    </tr>\n",
       "  </tbody>\n",
       "</table>\n",
       "</div>"
      ],
      "text/plain": [
       "   Unnamed: 0 from_name  uf partido evangélico? católico? created_time  \\\n",
       "0           0  Zé Vitor  MG      PL         não       não   2022-10-03   \n",
       "1           1  Zé Vitor  MG      PL         não       não   2022-10-01   \n",
       "\n",
       "                                             message  shares_count  n_likes  \\\n",
       "0  Agradeço a cada um de vocês pela confiança. Va...            27      137   \n",
       "1  Foram 4 anos de pé na estrada, levando Minas p...            12       75   \n",
       "\n",
       "                                    extract_text_pic  \\\n",
       "0  OPRIGADQ Como apoiode 152.748 mineiros, serão ...   \n",
       "1                               ZÉ VITOR 2200 Brasil   \n",
       "\n",
       "                                       permalink_url    userID_tse  \\\n",
       "0  https://www.facebook.com/636003517893991/posts...  130001610999   \n",
       "1  https://www.facebook.com/636003517893991/posts...  130001610999   \n",
       "\n",
       "         userID_ads    denominação?  reeleito_22?     votos coligacao  \n",
       "0  1082805205172897  sem informação           NaN  152748.0        PL  \n",
       "1  1082805205172897  sem informação           NaN  152748.0        PL  "
      ]
     },
     "execution_count": 106,
     "metadata": {},
     "output_type": "execute_result"
    }
   ],
   "source": [
    "fb.head(2)"
   ]
  },
  {
   "cell_type": "code",
   "execution_count": 123,
   "metadata": {},
   "outputs": [
    {
     "name": "stdout",
     "output_type": "stream",
     "text": [
      "Agradeço a cada um de vocês pela confiança. Vamos juntos nessa caminhada,seguindo em frente por um Brasil forte, justo e feliz. 🚂🔺✅ #DeputadoFederalZéVitor #zevitordeputado #minasgerais #política\n",
      "Foram 4 anos de pé na estrada, levando Minas por todo lugar. A gente construiu muita coisa. E por isso, tô aqui pra agradecer a cada um de vocês que confiaram nesse trabalho e pra dizer: muito obrigado. Amanhã, vamos juntos pra mais uma! Deputado Federal Ze Vitor 2⃣2⃣0⃣0⃣✅🚂\n",
      "Enfrentar a velha política não é tarefa fácil. Mas aprendi com o Barão de Mauá que o trabalho honrado tudo vence. Com você, a gente vai levar essa vitória a cada mineiro. Vamo nessa! 2⃣2⃣0⃣0⃣✅🚂\n",
      "Se você é a favor de penas mais duras para quem comete crime de violência doméstica, você também é 2⃣2⃣0⃣0⃣✅🚀 #ZéVitorDeputadoFederal #2200 #mg\n",
      "Não sabe em quem votar? Escolha o deputado que mais enviou recursos para Minas, que apresentou mais de 520 propostas legislativas. Pesquise e comprove! Zé Vitor Deputado Federal 2️⃣2️⃣0️⃣0️⃣✅\n",
      "Entramos na brincadeira! O nome você descobre agora, e o número é um só: 2⃣2⃣0⃣0⃣✅🚀\n",
      "Se você acha que o agro sustenta o Brasil, você também é 2⃣2⃣0⃣0⃣✅🚀 #zevitordeputadofederal #ZéVitor #2200 #mg #ZéVitorDeputadoFederal\n",
      "Deixe seu comentáro se você também é 2⃣2⃣0⃣0⃣✅ Tá chegando a hora! Em frente! 🚂🔺\n",
      "O piso nacional da enfermagem é uma das nossas lutas. Se você também defende a valorização dos profissionais da saúde, você é 2⃣2⃣0⃣0⃣✅ #DeputadoFederalZéVitor #2200 #mg #zevitor\n",
      "O povo tá falando! É 2⃣2⃣0⃣0⃣✅ É Zé Vitor Deputado Federal!\n"
     ]
    }
   ],
   "source": [
    "## Percorrendo linha de um dataset\n",
    "for item in fb['message'][0:10]:\n",
    "    print(item)"
   ]
  },
  {
   "cell_type": "code",
   "execution_count": 124,
   "metadata": {},
   "outputs": [
    {
     "data": {
      "text/plain": [
       "(29221, 18)"
      ]
     },
     "execution_count": 124,
     "metadata": {},
     "output_type": "execute_result"
    }
   ],
   "source": [
    "fb.shape"
   ]
  },
  {
   "cell_type": "code",
   "execution_count": 125,
   "metadata": {},
   "outputs": [
    {
     "data": {
      "text/plain": [
       "Unnamed: 0           0.000000\n",
       "from_name            0.000000\n",
       "uf                   0.027378\n",
       "partido              0.027378\n",
       "evangélico?          0.027378\n",
       "católico?            0.027378\n",
       "created_time         0.000000\n",
       "message              4.592588\n",
       "shares_count         9.612950\n",
       "n_likes              0.000000\n",
       "extract_text_pic    22.966360\n",
       "permalink_url        0.000000\n",
       "userID_tse           0.027378\n",
       "userID_ads           0.000000\n",
       "denominação?        19.266966\n",
       "reeleito_22?        99.893912\n",
       "votos                0.027378\n",
       "coligacao            0.027378\n",
       "dtype: float64"
      ]
     },
     "execution_count": 125,
     "metadata": {},
     "output_type": "execute_result"
    }
   ],
   "source": [
    "# Consultando linhas com valores faltantes.\n",
    "fb.isnull().sum()/29221*100"
   ]
  },
  {
   "cell_type": "code",
   "execution_count": 119,
   "metadata": {},
   "outputs": [],
   "source": [
    "#Com este comando removemos todas as linhas onde tenha pela menos um registro faltante em algum atributo.\n",
    "newfb = fb.dropna(inplace=True)"
   ]
  },
  {
   "cell_type": "code",
   "execution_count": 126,
   "metadata": {},
   "outputs": [],
   "source": [
    "#preenche com 9999 os values null da coluna bedrooms\n",
    "fb['message'].fillna(9999, inplace=True)"
   ]
  },
  {
   "cell_type": "markdown",
   "metadata": {},
   "source": [
    "## **Parte 5**\n",
    "## **Visualizando os dados**"
   ]
  },
  {
   "cell_type": "code",
   "execution_count": 127,
   "metadata": {},
   "outputs": [
    {
     "data": {
      "text/plain": [
       "<Axes: >"
      ]
     },
     "execution_count": 127,
     "metadata": {},
     "output_type": "execute_result"
    },
    {
     "data": {
      "image/png": "[encoded data removed]",
      "text/plain": [
       "<Figure size 640x480 with 1 Axes>"
      ]
     },
     "metadata": {},
     "output_type": "display_data"
    }
   ],
   "source": [
    "# Plota em um gŕafico de barras mostrando que partido mais atuou nas redes sociais\n",
    "fb['partido'].value_counts().plot(kind='barh')"
   ]
  },
  {
   "cell_type": "code",
   "execution_count": 128,
   "metadata": {},
   "outputs": [
    {
     "data": {
      "text/plain": [
       "<Axes: title={'center': 'Impacto digital de deputados do PL nas eleições 2022 \\n'}, xlabel='n_likes', ylabel='shares_count'>"
      ]
     },
     "execution_count": 128,
     "metadata": {},
     "output_type": "execute_result"
    },
    {
     "data": {
      "image/png": "[encoded data removed]",
      "text/plain": [
       "<Figure size 640x480 with 1 Axes>"
      ]
     },
     "metadata": {},
     "output_type": "display_data"
    }
   ],
   "source": [
    "# Plota em gráfico de dispersão com o numero de shares e o número de likes de deputados do PL\n",
    "## cria uma base de dados somente de deputados do PL\n",
    "dataPL = fb[fb['partido']==\"PL\"]\n",
    "## plota gráfico de dispersão para a base\n",
    "dataPL.plot(x='n_likes',y='shares_count',kind='scatter', title='Impacto digital de deputados do PL nas eleições 2022 \\n',color='r')"
   ]
  },
  {
   "cell_type": "code",
   "execution_count": 129,
   "metadata": {},
   "outputs": [
    {
     "data": {
      "text/plain": [
       "<Axes: title={'center': 'Impacto digital de deputados do PL nas eleições 2022 \\n'}, xlabel='n_likes', ylabel='shares_count'>"
      ]
     },
     "execution_count": 129,
     "metadata": {},
     "output_type": "execute_result"
    },
    {
     "data": {
      "image/png": "[encoded data removed]",
      "text/plain": [
       "<Figure size 640x480 with 1 Axes>"
      ]
     },
     "metadata": {},
     "output_type": "display_data"
    }
   ],
   "source": [
    "# Plota em gráfico de dispersão com o numero de shares e o número de likes de deputados do PL\n",
    "dataPL.plot(x='n_likes',y='shares_count',kind='scatter', title='Impacto digital de deputados do PL nas eleições 2022 \\n',color='y')"
   ]
  },
  {
   "cell_type": "code",
   "execution_count": null,
   "metadata": {},
   "outputs": [],
   "source": []
  }
 ],
 "metadata": {
  "kernelspec": {
   "display_name": "Python 3",
   "language": "python",
   "name": "python3"
  },
  "language_info": {
   "codemirror_mode": {
    "name": "ipython",
    "version": 3
   },
   "file_extension": ".py",
   "mimetype": "text/x-python",
   "name": "python",
   "nbconvert_exporter": "python",
   "pygments_lexer": "ipython3",
   "version": "3.10.11"
  },
  "orig_nbformat": 4
 },
 "nbformat": 4,
 "nbformat_minor": 2
}
